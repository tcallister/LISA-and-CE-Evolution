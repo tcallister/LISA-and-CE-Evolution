{
 "cells": [
  {
   "cell_type": "code",
   "execution_count": 1,
   "metadata": {
    "autoscroll": false,
    "collapsed": false,
    "ein.hycell": false,
    "ein.tags": "worksheet-0",
    "slideshow": {
     "slide_type": "-"
    }
   },
   "outputs": [],
   "source": [
    "from cosmic.sample.initialbinarytable import InitialBinaryTable\n",
    "from cosmic.evolve import Evolve\n",
    "import glob\n",
    "import pandas as pd\n",
    "import numpy as np\n",
    "from COSMIClib import *"
   ]
  },
  {
   "cell_type": "code",
   "execution_count": 2,
   "metadata": {
    "autoscroll": false,
    "collapsed": false,
    "ein.hycell": false,
    "ein.tags": "worksheet-0",
    "slideshow": {
     "slide_type": "-"
    }
   },
   "outputs": [],
   "source": [
    "root = \"/mnt/home/mrenzo/RUNS/CE_GW/CE_pop_synth/COSMIC/\"\n",
    "# folder = root+\"/qcrits_clayes/\"\n",
    "folder  = root+\"/qcrits_1000/\"\n",
    "h5frame = glob.glob(folder+\"*.h5\")[0]\n",
    "bpp =  pd.read_hdf(h5frame, key='bpp') # key evolutionary changes\n",
    "initC = pd.read_hdf(h5frame, key='initCond') # key evolutionary changes"
   ]
  },
  {
   "cell_type": "code",
   "execution_count": 4,
   "metadata": {
    "autoscroll": false,
    "collapsed": false,
    "ein.hycell": false,
    "ein.tags": "worksheet-0",
    "slideshow": {
     "slide_type": "-"
    }
   },
   "outputs": [],
   "source": [
    "BSEdict =  {'xi': 1.0, 'bhflag': 1, 'neta': 0.5, 'windflag': 3, 'wdflag': 1, 'alpha1': 1.0, 'pts1': 0.001, 'pts3': 0.02, 'pts2': 0.01, 'epsnov': 0.001, 'hewind': 0.5, 'ck': -1000, 'bwind': 0.0, 'lambdaf': 0.5, 'mxns': 2.5, 'beta': 0.125, 'tflag': 1, 'acc2': 1.5, 'nsflag': 3, 'ceflag': 0, 'eddfac': 1.0, 'ifflag': 0, 'bconst': -3000, 'sigma': 265.0, 'gamma': -1.0, 'pisn': 45.0, 'natal_kick_array' : [-100.0,-100.0,-100.0,-100.0,-100.0,-100.0], 'bhsigmafrac' : 1.0, 'polar_kick_angle' : 90, 'qcrit_array' : [0.0,0.0,0.0,0.0,0.0,0.0,0.0,0.0,0.0,0.0,0.0,0.0,0.0,0.0,0.0,0.0], 'cekickflag' : 2, 'cehestarflag' : 0, 'cemergeflag' : 0, 'ecsn' : 2.5, 'ecsn_mlow' : 1.4, 'aic' : 1, 'ussn' : 0, 'sigmadiv' :-20.0, 'qcflag' : 2, 'eddlimflag' : 0, 'fprimc_array' : [2.0/21.0,2.0/21.0,2.0/21.0,2.0/21.0,2.0/21.0,2.0/21.0,2.0/21.0,2.0/21.0,2.0/21.0,2.0/21.0,2.0/21.0,2.0/21.0,2.0/21.0,2.0/21.0,2.0/21.0,2.0/21.0], 'bhspinflag' : 0, 'bhspinmag' : 0.0, 'rejuv_fac' : 1.0, 'rejuvflag' : 0, 'htpmb' : 1, 'ST_cr' : 1, 'ST_tide' : 0, 'bdecayfac' : 1}\n",
    "single_binary = InitialBinaryTable.InitialBinaries(m1=100, m2=80, porb=7, ecc=0.0, tphysf=13700.0, kstar1=1, kstar2=1, metallicity=0.001)\n",
    "bpp1, bcm1, initC1 = Evolve.evolve(initialbinarytable=single_binary, BSEDict=BSEdict)"
   ]
  },
  {
   "cell_type": "code",
   "execution_count": 5,
   "metadata": {
    "autoscroll": false,
    "collapsed": false,
    "ein.hycell": false,
    "ein.tags": "worksheet-0",
    "slideshow": {
     "slide_type": "-"
    }
   },
   "outputs": [
    {
     "name": "stdout",
     "output_type": "stream",
     "text": [
      "      mass_1  kstar_1      mass_2  kstar_2         sep  evol_type\n",
      "0  94.421535      1.0   77.377092      1.0   87.590373        3.0\n",
      "0  74.696899      1.0   96.479978      1.0   89.258658        4.0\n",
      "0  74.690817      2.0   96.475115      1.0   89.476095        2.0\n",
      "0  74.690625      2.0   96.474970      1.0   89.705318        3.0\n",
      "0  63.476354      4.0  107.678343      1.0   92.735726        2.0\n",
      "0  33.223967      4.0  137.893727      1.0  196.954985        4.0\n",
      "0  33.193189      7.0  137.782135      1.0  197.083111        2.0\n",
      "0  30.081657      7.0  136.235094      1.0  202.554729       15.0\n",
      "0  27.073491     14.0  136.235094      1.0  206.355831        2.0\n",
      "0  27.267044     14.0  111.985297      2.0  245.508822        2.0\n",
      "0  27.267948     14.0  111.935172      2.0  244.552767        3.0\n",
      "0  27.270104     14.0   52.476496      2.0   24.566554        4.0\n",
      "0  27.270126     14.0   52.476028      7.0   24.566043        2.0\n",
      "0  27.387613     14.0   45.713087      7.0   26.571656       16.0\n",
      "0  27.387613     14.0   40.500000     14.0   28.781744        2.0\n",
      "0  27.387613     14.0   40.500000     14.0    0.000402        3.0\n",
      "0  67.887613     14.0   45.713087     15.0    0.000000        6.0\n",
      "0  67.887613     14.0    0.000000     15.0    0.000000       10.0\n"
     ]
    }
   ],
   "source": [
    "with pd.option_context('display.max_rows', None, 'display.max_columns', None):\n",
    "    # print(initC1)\n",
    "    print(bpp1[[\"mass_1\", \"kstar_1\", \"mass_2\", \"kstar_2\", \"sep\",\"evol_type\"]])\n",
    "    "
   ]
  },
  {
   "cell_type": "code",
   "execution_count": 3,
   "metadata": {
    "autoscroll": false,
    "collapsed": false,
    "ein.hycell": false,
    "ein.tags": "worksheet-0",
    "slideshow": {
     "slide_type": "-"
    }
   },
   "outputs": [
    {
     "name": "stdout",
     "output_type": "stream",
     "text": [
      "      mass_1  kstar_1    mass_2  kstar_2         sep  evol_type\n",
      "30  2.660683      2.0  2.574278      1.0   38.577230        2.0\n",
      "30  2.660525      2.0  2.574297      1.0   28.540716        3.0\n",
      "30  2.649121      3.0  2.585698      1.0   28.123501        2.0\n",
      "30  0.707678      4.0  4.526831      1.0  125.640273        2.0\n",
      "30  0.578600      4.0  4.655787      1.0  169.846294        4.0\n",
      "30  0.541478      4.0  4.677645      2.0  168.902320        2.0\n",
      "30  0.541237      4.0  4.677415      3.0  169.326495        2.0\n",
      "30  0.541160      4.0  4.677146      3.0  101.698143        3.0\n",
      "30  0.995982      4.0  4.222311      3.0   51.727732        5.0\n",
      "30  0.995982      4.0  4.222311      3.0   51.727732        7.0\n",
      "30  0.488373      7.0  0.788191      7.0    0.694482        8.0\n",
      "30  0.488646      7.0  0.780745      8.0    0.451391        2.0\n",
      "30  0.488736      7.0  0.779676      8.0    0.461955        3.0\n",
      "30  0.535385      7.0  0.732664      8.0    0.424903        5.0\n",
      "30  0.535385      7.0  0.732664      8.0    0.424903        7.0\n",
      "30  0.535385     15.0  1.261678      8.0    0.000000        8.0\n",
      "30  0.000000     15.0  1.235347      9.0    0.000000        2.0\n",
      "30  0.000000     15.0  1.147370     11.0    0.000000        2.0\n",
      "30  0.000000     15.0  1.147370     11.0    0.000000       10.0\n"
     ]
    }
   ],
   "source": [
    "iCE = (bpp.evol_type == 7) #& np.array(1-bothWD(bpp.kstar_1, bpp.kstar_2), dtype=bool)# & ((bpp.kstar_1>1) & (bpp.kstar_2>1)) # CE initiation and both stars are post MS, so both have a core\n",
    "CEbin = bpp.loc[iCE]\n",
    "\n",
    "# print(type(CEbin))\n",
    "longP = CEbin.loc[CEbin.porb >= 0]\n",
    "bin_nums = longP.bin_num.values\n",
    "initial_cond = initC[initC.bin_num.isin(bin_nums)]\n",
    "#print(initial_cond)\n",
    "to_be_run = initial_cond[initial_cond.bin_num==30]\n",
    "bpp1, bcm1, initC1 = Evolve.evolve(initialbinarytable=to_be_run, BSEDict={})\n",
    "# print(bpp1.loc[bpp1.evol_type ==7][[\"tphys\", \"mass_1\", \"kstar_1\", \"mass_2\", \"kstar_2\", \"porb\", \"evol_type\",\"ecc\"]])\n",
    "# print(bpp1.loc[bpp1.evol_type ==8][[\"tphys\", \"mass_1\", \"kstar_1\", \"mass_2\", \"kstar_2\", \"porb\", \"evol_type\",\"ecc\"]])\n",
    "\n",
    "with pd.option_context('display.max_rows', None, 'display.max_columns', None):\n",
    "    # print(initC1)\n",
    "    print(bpp1[[\"mass_1\", \"kstar_1\", \"mass_2\", \"kstar_2\", \"sep\",\"evol_type\"]])"
   ]
  },
  {
   "cell_type": "code",
   "execution_count": null,
   "metadata": {
    "autoscroll": false,
    "collapsed": false,
    "ein.hycell": false,
    "ein.tags": "worksheet-0",
    "slideshow": {
     "slide_type": "-"
    }
   },
   "outputs": [],
   "source": [
    "initial_conditions = initC[initC.bin_num == 62013]\n"
   ]
  },
  {
   "cell_type": "code",
   "execution_count": null,
   "metadata": {
    "autoscroll": false,
    "collapsed": false,
    "ein.hycell": false,
    "ein.tags": "worksheet-0",
    "slideshow": {
     "slide_type": "-"
    }
   },
   "outputs": [],
   "source": [
    "# BSEDict = {'xi': 1.0, 'bhflag': 1, 'neta': 0.5, 'windflag': 3, 'wdflag': 1, 'alpha1': 1.0, 'pts1': 0.001, 'pts3': 0.02, 'pts2': 0.01, 'epsnov': 0.001, 'hewind': 0.5, 'ck': -1000, 'bwind': 0.0, 'lambdaf': 0.5, 'mxns': 2.5, 'beta': 0.125, 'tflag': 1, 'acc2': 1.5, 'nsflag': 3, 'ceflag': 0, 'eddfac': 1.0, 'ifflag': 0, 'bconst': -3000, 'sigma': 265.0, 'gamma': -1.0, 'pisn': 45.0, 'natal_kick_array' : [-100.0,-100.0,-100.0,-100.0,-100.0,-100.0], 'bhsigmafrac' : 1.0, 'polar_kick_angle' : 90, 'qcrit_array' : [0.0,0.0,0.0,0.0,0.0,0.0,0.0,0.0,0.0,0.0,0.0,0.0,0.0,0.0,0.0,0.0], 'cekickflag' : 2, 'cehestarflag' : 0, 'cemergeflag' : 0, 'ecsn' : 2.5, 'ecsn_mlow' : 1.4, 'aic' : 1, 'ussn' : 0, 'sigmadiv' :-20.0, 'qcflag' : 2, 'eddlimflag' : 0, 'fprimc_array' : [2.0/21.0,2.0/21.0,2.0/21.0,2.0/21.0,2.0/21.0,2.0/21.0,2.0/21.0,2.0/21.0,2.0/21.0,2.0/21.0,2.0/21.0,2.0/21.0,2.0/21.0,2.0/21.0,2.0/21.0,2.0/21.0], 'bhspinflag' : 0, 'bhspinmag' : 0.0, 'rejuv_fac' : 1.0, 'rejuvflag' : 0, 'htpmb' : 1, 'ST_cr' : 1, 'ST_tide' : 0, 'bdecayfac' : 1}\n",
    "bpp1, bcm1, initC1 = Evolve.evolve(initialbinarytable=initial_conditions, BSEDict={})\n",
    "# check at what stage the CE happened\n",
    "print(bpp1.evol_type)\n",
    "print(bpp1.loc[bpp1.evol_type ==7][[\"tphys\", \"mass_1\", \"kstar_1\", \"mass_2\", \"kstar_2\", \"porb\", \"evol_type\",\"ecc\"]])\n",
    "print(bpp1.loc[bpp1.evol_type ==8][[\"tphys\", \"mass_1\", \"kstar_1\", \"mass_2\", \"kstar_2\", \"porb\", \"evol_type\",\"ecc\"]])"
   ]
  },
  {
   "cell_type": "code",
   "execution_count": null,
   "metadata": {
    "autoscroll": false,
    "collapsed": false,
    "ein.hycell": false,
    "ein.tags": "worksheet-0",
    "slideshow": {
     "slide_type": "-"
    }
   },
   "outputs": [],
   "source": [
    "## redefine qcrits array\n",
    "qcrit_0  = 0.0\n",
    "qcrit_1  = 0.0\n",
    "qcrit_2  = 0.0\n",
    "qcrit_3  = 0.0\n",
    "qcrit_4  = 0.0\n",
    "qcrit_5  = 0.0\n",
    "qcrit_6  = 0.0\n",
    "qcrit_7  = 0.0\n",
    "qcrit_8  = 0.0\n",
    "qcrit_9  = 0.0\n",
    "qcrit_10 = 0.0\n",
    "qcrit_11 = 0.0\n",
    "qcrit_12 = 0.0\n",
    "qcrit_13 = 0.0\n",
    "qcrit_14 = 0.0\n",
    "qcrit_15 = 1e99\n",
    "qcrits = [qcrit_0, \n",
    "          qcrit_1, \n",
    "          qcrit_2, \n",
    "          qcrit_3, \n",
    "          qcrit_4, \n",
    "          qcrit_5, \n",
    "          qcrit_6, \n",
    "          qcrit_7, \n",
    "          qcrit_8, \n",
    "          qcrit_9, \n",
    "          qcrit_10,\n",
    "          qcrit_11,\n",
    "          qcrit_12,\n",
    "          qcrit_13,\n",
    "          qcrit_14,\n",
    "          qcrit_15\n",
    "]\n",
    "bpp2, bcm2, initC2 = Evolve.evolve(initialbinarytable=initial_conditions, BSEDict={'qcrit_array' : qcrits})\n",
    "print(bpp2.loc[bpp2.evol_type ==7][[\"mass_1\", \"kstar_1\", \"mass_2\", \"kstar_2\", \"porb\", \"evol_type\",\"ecc\"]])\n",
    "\n",
    "print(\"-----------------\")\n",
    "print(initC2)"
   ]
  }
 ],
 "metadata": {
  "kernelspec": {
   "argv": [
    "/mnt/home/mrenzo/anaconda3/envs/py3/bin/python",
    "-m",
    "ipykernel_launcher",
    "-f",
    "{connection_file}"
   ],
   "display_name": "Python 3",
   "env": null,
   "interrupt_mode": "signal",
   "language": "python",
   "metadata": null,
   "name": "python3"
  },
  "name": "run_one_binary.ipynb"
 },
 "nbformat": 4,
 "nbformat_minor": 2
}
