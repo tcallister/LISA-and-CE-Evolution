{
 "cells": [
  {
   "cell_type": "markdown",
   "metadata": {
    "ein.tags": "worksheet-0",
    "slideshow": {
     "slide_type": "-"
    }
   },
   "source": [
    "## play with common envelope events from COSMIC for GW signal"
   ]
  },
  {
   "cell_type": "code",
   "execution_count": 1,
   "metadata": {
    "autoscroll": false,
    "ein.hycell": false,
    "ein.tags": "worksheet-0",
    "slideshow": {
     "slide_type": "-"
    }
   },
   "outputs": [
    {
     "ename": "ModuleNotFoundError",
     "evalue": "No module named 'COSMIClib'",
     "output_type": "error",
     "traceback": [
      "\u001b[0;31m---------------------------------------------------------------------------\u001b[0m",
      "\u001b[0;31mModuleNotFoundError\u001b[0m                       Traceback (most recent call last)",
      "\u001b[0;32m<ipython-input-1-32c211053cd9>\u001b[0m in \u001b[0;36m<module>\u001b[0;34m\u001b[0m\n\u001b[1;32m     13\u001b[0m \u001b[0;32mfrom\u001b[0m \u001b[0mmpl_toolkits\u001b[0m\u001b[0;34m.\u001b[0m\u001b[0maxes_grid1\u001b[0m\u001b[0;34m.\u001b[0m\u001b[0minset_locator\u001b[0m \u001b[0;32mimport\u001b[0m \u001b[0mmark_inset\u001b[0m\u001b[0;34m\u001b[0m\u001b[0;34m\u001b[0m\u001b[0m\n\u001b[1;32m     14\u001b[0m \u001b[0;32mfrom\u001b[0m \u001b[0mtermcolor\u001b[0m \u001b[0;32mimport\u001b[0m \u001b[0mcolored\u001b[0m\u001b[0;34m\u001b[0m\u001b[0;34m\u001b[0m\u001b[0m\n\u001b[0;32m---> 15\u001b[0;31m \u001b[0;32mfrom\u001b[0m \u001b[0mCOSMIClib\u001b[0m \u001b[0;32mimport\u001b[0m \u001b[0;34m*\u001b[0m\u001b[0;34m\u001b[0m\u001b[0;34m\u001b[0m\u001b[0m\n\u001b[0m\u001b[1;32m     16\u001b[0m \u001b[0;31m# parallelization stuff\u001b[0m\u001b[0;34m\u001b[0m\u001b[0;34m\u001b[0m\u001b[0;34m\u001b[0m\u001b[0m\n\u001b[1;32m     17\u001b[0m \u001b[0;32mfrom\u001b[0m \u001b[0mjoblib\u001b[0m \u001b[0;32mimport\u001b[0m \u001b[0mParallel\u001b[0m\u001b[0;34m,\u001b[0m \u001b[0mdelayed\u001b[0m\u001b[0;34m\u001b[0m\u001b[0;34m\u001b[0m\u001b[0m\n",
      "\u001b[0;31mModuleNotFoundError\u001b[0m: No module named 'COSMIClib'"
     ]
    }
   ],
   "source": [
    "import matplotlib.pyplot as plt\n",
    "import pandas as pd\n",
    "import numpy as np\n",
    "import os\n",
    "import sys\n",
    "import glob\n",
    "import time\n",
    "import math\n",
    "from matplotlib.ticker import MultipleLocator, FormatStrFormatter, FuncFormatter, MaxNLocator\n",
    "import matplotlib.gridspec as gridspec\n",
    "import matplotlib.patches as mpatch\n",
    "from mpl_toolkits.axes_grid1.inset_locator import inset_axes, zoomed_inset_axes\n",
    "from mpl_toolkits.axes_grid1.inset_locator import mark_inset\n",
    "from termcolor import colored\n",
    "from COSMIClib import *\n",
    "# parallelization stuff\n",
    "from joblib import Parallel, delayed\n",
    "import multiprocessing\n",
    "import subprocess\n",
    "import h5py"
   ]
  },
  {
   "cell_type": "code",
   "execution_count": null,
   "metadata": {
    "autoscroll": false,
    "ein.hycell": false,
    "ein.tags": "worksheet-0",
    "slideshow": {
     "slide_type": "-"
    }
   },
   "outputs": [],
   "source": [
    "root = \"/mnt/home/mrenzo/RUNS/CE_GW/CE_pop_synth/COSMIC/\"\n",
    "folders = glob.glob(root+\"*qcrits*/\")\n",
    "for f in folders:\n",
    "    print(f)"
   ]
  },
  {
   "cell_type": "code",
   "execution_count": null,
   "metadata": {
    "autoscroll": false,
    "ein.hycell": false,
    "ein.tags": "worksheet-0",
    "slideshow": {
     "slide_type": "-"
    }
   },
   "outputs": [],
   "source": [
    "def getPrevEvolTypeCE(folder):\n",
    "    h5frame = glob.glob(folder+\"*.h5\")[0]\n",
    "    bpp =  pd.read_hdf(h5frame, key='bpp') # key evolutionary changes\n",
    "\n",
    "    CEbin_num = bpp.loc[bpp.evol_type == 7][\"bin_num\"]\n",
    "    prob_bin_num = []\n",
    "    for bin_num in CEbin_num:\n",
    "        evol_type = bpp.loc[bpp.bin_num == bin_num][\"evol_type\"]\n",
    "        evol_type = np.array(evol_type.values)\n",
    "        # print(evol_type)\n",
    "        findCE = np.argmin(np.absolute(evol_type - 7))\n",
    "        prev_evol_type = evol_type[findCE-1]\n",
    "        # print(bin_num, evol_type[findCE], evol_type[findCE-1])\n",
    "        if prev_evol_type != 5.0:\n",
    "            prob_bin_num.append(bin_num)\n",
    "            print(bin_num, \"|\", evol_type[findCE-3], evol_type[findCE-2], evol_type[findCE-1], evol_type[findCE], evol_type[findCE+1])\n",
    "    print(\"---------\")\n",
    "    print(\"N system with evol_type !=5 before evol_type == 7 in \", folder, \"is\", len(prob_bin_num))\n",
    "    print(\"---------\")\n",
    "    return prob_bin_num\n",
    "\n",
    "# test\n",
    "# PBN = getPrevEvolTypeCE(\"/mnt/home/mrenzo/RUNS/CE_GW/CE_pop_synth/COSMIC/qcrits_1000/\")"
   ]
  },
  {
   "cell_type": "code",
   "execution_count": null,
   "metadata": {
    "autoscroll": false,
    "ein.hycell": false,
    "ein.tags": "worksheet-0",
    "slideshow": {
     "slide_type": "-"
    }
   },
   "outputs": [],
   "source": [
    "# check individual system\n",
    "def printEvolOneSystem(folder, bin_num):\n",
    "    h5frame = glob.glob(folder+\"*.h5\")[0]\n",
    "    bcm =  pd.read_hdf(h5frame, key='bcm')\n",
    "    bpp =  pd.read_hdf(h5frame, key='bpp')\n",
    "    initC = pd.read_hdf(h5frame, key='initCond')\n",
    "    with pd.option_context('display.max_rows', None, 'display.max_columns', None):\n",
    "        # print(initC1)\n",
    "        # print(bcm.loc[bcm.bin_num==bin_num])\n",
    "        print(bpp.loc[bpp.bin_num==bin_num][['tphys', 'mass_1', 'mass_2', 'kstar_1', 'kstar_2', 'evol_type', 'sep']]) #, 'ecc']])\n",
    "        # print(initC.loc[initC.bin_num==bin_num])\n",
    "    \n",
    "#test\n",
    "# f = \"/mnt/home/mrenzo/RUNS/CE_GW/CE_pop_synth/COSMIC/qcrits_1000/\"\n",
    "# for pbn in [PBN[0]]:\n",
    "#     printEvolOneSystem(f, pbn)\n",
    "#     print(\"++++++++++++++++++++++++++++++++++++++++++++\")"
   ]
  },
  {
   "cell_type": "code",
   "execution_count": null,
   "metadata": {
    "autoscroll": false,
    "ein.hycell": false,
    "ein.tags": "worksheet-0",
    "slideshow": {
     "slide_type": "-"
    }
   },
   "outputs": [],
   "source": [
    "print(bpp.columns)"
   ]
  },
  {
   "cell_type": "code",
   "execution_count": null,
   "metadata": {
    "autoscroll": false,
    "ein.hycell": false,
    "ein.tags": "worksheet-0",
    "slideshow": {
     "slide_type": "-"
    }
   },
   "outputs": [],
   "source": [
    "def mkPlot(func, RES=5, xlabel=\"x\", ylabel=\"N\", X=0.5,Y=0.5):\n",
    "    fig = plt.figure(figsize=(15., 15.))\n",
    "    gs = gridspec.GridSpec(3,3)\n",
    "    gs.update(wspace=0,hspace=0)# top=1.1)\n",
    "    ax1 = plt.subplot(gs[0])\n",
    "    ax2 = plt.subplot(gs[1])\n",
    "    ax3 = plt.subplot(gs[2])\n",
    "    ax4 = plt.subplot(gs[3])\n",
    "    ax5 = plt.subplot(gs[4])\n",
    "    ax6 = plt.subplot(gs[5])\n",
    "    ax7 = plt.subplot(gs[6])\n",
    "    ax8 = plt.subplot(gs[7])\n",
    "    ax9 = plt.subplot(gs[8])\n",
    "    # set root\n",
    "    root = \"/mnt/home/mrenzo/RUNS/CE_GW/CE_pop_synth/COSMIC/\"\n",
    "    # plot\n",
    "    func(root+\"/qcrits_clayes/\",ax=ax1, RES=RES)\n",
    "    ax1.text(X,Y, r\"Clayes+14, Moe+17\", fontsize=25, color=\"#808080\",va=\"center\", ha=\"center\", transform=ax1.transAxes)\n",
    "\n",
    "    func(root+\"/qcrits_0.0001/\",ax=ax2, RES=RES)\n",
    "    ax2.text(X,Y, r\"qcrits=0.0001\", fontsize=25, color=\"#808080\",va=\"center\", ha=\"center\", transform=ax2.transAxes)\n",
    "\n",
    "    func(root+\"/qcrits_0.1/\",ax=ax3, RES=RES)\n",
    "    ax3.text(X,Y, r\"qcrits=0.1\", fontsize=25, color=\"#808080\",va=\"center\", ha=\"center\", transform=ax3.transAxes)\n",
    "\n",
    "    func(root+\"/qcrits_indipendent_dist/\",ax=ax4, RES=RES)\n",
    "    ax4.text(X,Y, r\"Clayes+14\", fontsize=25, color=\"#808080\",va=\"center\", ha=\"center\", transform=ax4.transAxes)\n",
    "\n",
    "    func(root+\"/qcrits_1/\",ax=ax5, RES=RES)\n",
    "    ax5.text(X,Y, r\"qcrits=1\", fontsize=25, color=\"#808080\",va=\"center\", ha=\"center\", transform=ax5.transAxes)\n",
    "\n",
    "    func(root+\"/qcrits_2/\",ax=ax6, RES=RES)\n",
    "    ax6.text(X,Y, r\"qcrits=2\", fontsize=25, color=\"#808080\",va=\"center\", ha=\"center\", transform=ax6.transAxes)\n",
    "\n",
    "    func(root+\"/qcrits_clayes_Z0.002/\",ax=ax7, RES=RES)                  \n",
    "    ax7.text(X,Y, r\"Clayes+14, $Z=0.002$\", fontsize=25, color=\"#808080\",va=\"center\", ha=\"center\", transform=ax7.transAxes)\n",
    "\n",
    "    func(root+\"/qcrits_1000/\",ax=ax8, RES=RES)\n",
    "    ax8.text(X,Y, r\"qcrits=1000\", fontsize=25, color=\"#808080\",va=\"center\", ha=\"center\", transform=ax8.transAxes)\n",
    "\n",
    "    func(root+\"/qcrits_inf/\",ax=ax9, RES=RES)\n",
    "    ax9.text(X,Y, r\"qcrits=$\\infty$\", fontsize=25, color=\"#808080\",va=\"center\", ha=\"center\", transform=ax9.transAxes)\n",
    "\n",
    "        \n",
    "    # beautification\n",
    "    axes = [ax1,ax2,ax3,ax4,ax5,ax6,ax7,ax8, ax9]\n",
    "    for ax in axes:\n",
    "        # ax.text(0.5,0.5,\"%d\"%(axes.index(ax)+1))\n",
    "        ax.tick_params(axis='both', which='major', width=2, top=\"on\", right=\"on\", length=12, pad=10, labelsize=30, direction='in')\n",
    "        ax.tick_params(axis='both', which='minor', width=2, top=\"on\", right=\"on\", length=6, pad=10, direction='in')\n",
    "    \n",
    "    ax1.set_xticklabels([])\n",
    "    ax1.set_xlabel(\"\")\n",
    "    ax1.set_ylabel(ylabel, fontsize=30)\n",
    "\n",
    "    ax2.set_xticklabels([])\n",
    "    ax2.set_xlabel(\"\")\n",
    "    \n",
    "    ax3.set_xticklabels([])\n",
    "    ax3.set_xlabel(\"\")\n",
    "    \n",
    "    ax4.set_xticklabels([])\n",
    "    ax4.set_ylabel(ylabel, fontsize=30)\n",
    "    ax4.set_xlabel(\"\")\n",
    "    \n",
    "    ax5.set_xticklabels([])\n",
    "    ax5.set_xlabel(\"\")\n",
    "    \n",
    "    ax6.set_xticklabels([])\n",
    "    ax6.set_xlabel(\"\")\n",
    "    \n",
    "    ax2.set_yticklabels([])\n",
    "    ax2.set_ylabel(\"\")\n",
    "\n",
    "    ax3.set_yticklabels([])\n",
    "    ax3.set_ylabel(\"\")\n",
    "\n",
    "    ax5.set_yticklabels([])\n",
    "    ax5.set_ylabel(\"\")\n",
    "\n",
    "    ax6.set_yticklabels([])\n",
    "    ax6.set_ylabel(\"\")\n",
    "\n",
    "    ax7.set_xlabel(xlabel, fontsize=30)\n",
    "    ax7.set_ylabel(ylabel, fontsize=30)\n",
    "    \n",
    "    ax8.set_yticklabels([])\n",
    "    ax8.set_ylabel(\"\")\n",
    "    ax8.set_xlabel(xlabel, fontsize=30)\n",
    "    \n",
    "    ax9.set_yticklabels([])\n",
    "    ax9.set_ylabel(\"\")\n",
    "    ax9.set_xlabel(xlabel, fontsize=30)\n",
    "    \n",
    "    #end\n",
    "#test    \n",
    "# mkPlot(plot_q_Pinit)"
   ]
  },
  {
   "cell_type": "code",
   "execution_count": null,
   "metadata": {
    "autoscroll": false,
    "ein.hycell": false,
    "ein.tags": "worksheet-0",
    "slideshow": {
     "slide_type": "-"
    }
   },
   "outputs": [],
   "source": [
    "def get_individual_GWemittingM(bpp, index):\n",
    "    \"\"\" see also getGWemittingM in COSMIClib.py\"\"\"\n",
    "    # get data\n",
    "    k1 = bpp.loc[index].kstar_1\n",
    "    k2 = bpp.loc[index].kstar_2   \n",
    "    Mcore1 = bpp.loc[index].massc_1\n",
    "    Mcore2 = bpp.loc[index].massc_2\n",
    "    M1 = bpp.loc[index].mass_1\n",
    "    M2 = bpp.loc[index].mass_2\n",
    "    # --------------------------------------\n",
    "    # initialization\n",
    "    Mdonor = np.zeros(len(M1)) # to be filled\n",
    "    Msecondary = np.zeros(len(M1)) # to be filled\n",
    "    # --------------------------------------\n",
    "    # both stars are main sequence\n",
    "    # use total mass of the stars\n",
    "    ibothMS = (k1 <= 1) & (k2 <=1)\n",
    "    Mdonor[ibothMS] = M1[ibothMS]\n",
    "    Msecondary[ibothMS] = M2[ibothMS]\n",
    "    # --------------------------------------\n",
    "    # not both on the MS\n",
    "    notbothMS = np.array(1-ibothMS, dtype=bool)\n",
    "    # consider CE where both stars are non-degenerate\n",
    "    # then use the core mass of donor and mass of secondary\n",
    "    inondeg = (k1<10) & (k2<10) & notbothMS\n",
    "    # donor 1\n",
    "    idonor1 = inondeg & (k1-k2 > 0) #NB strictly >\n",
    "    Mdonor[idonor1] = Mcore1[idonor1]\n",
    "    Msecondary[idonor1] = M2[idonor1]\n",
    "    \n",
    "    # double core\n",
    "    idc = inondeg & (k1-k2 == 0)\n",
    "    Mdonor[idc] = Mcore1[idc]\n",
    "    Msecondary[idc] = Mcore2[idc]\n",
    "\n",
    "    # donor 2\n",
    "    idonor2 = inondeg & (k1-k2 < 0)\n",
    "    Mdonor[idonor2] = Mcore2[idonor2]\n",
    "    Msecondary[idonor2] = M1[idonor2]\n",
    "\n",
    "    # now deal with degenerate stars\n",
    "    # 1 is degenerate but 2 isn't\n",
    "    ideg1nondeg2 = (k1>=10)&(k2<10)\n",
    "    Mdonor[ideg1nondeg2]=Mcore2[ideg1nondeg2]\n",
    "    Msecondary[ideg1nondeg2]=M1[ideg1nondeg2]\n",
    "\n",
    "    # 2 degenerate but 1 not\n",
    "    ideg2nondeg1 = (k1<10)&(k2>=10)\n",
    "    Mdonor[ideg2nondeg1] = Mcore1[ideg2nondeg1]\n",
    "    Msecondary[ideg2nondeg1] = M2[ideg2nondeg1]\n",
    "\n",
    "    # both degenerate -- should be rare\n",
    "    ibothdeg = (k1>=10) & (k2>=10)\n",
    "    Mdonor[ibothdeg] = M1[ibothdeg]\n",
    "    Msecondary[ibothdeg] = M2[ibothdeg]\n",
    "    return Mdonor, Msecondary\n",
    "\n",
    "## sanity check\n",
    "# folder = folders[0]\n",
    "# h5frame = glob.glob(folder+\"*.h5\")[0]\n",
    "# bpp =  pd.read_hdf(h5frame, key='bpp') # key evolutionary changes\n",
    "# index = (bpp.evol_type == 7) & ((bpp.kstar_1>1) & (bpp.kstar_2>1))\n",
    "# Ma, Mb = get_individual_GWemittingM(bpp, index)\n",
    "# Mgw_emitting = Ma+Mb\n",
    "# Mgw_emitting_2 = getGWemittingM(bpp, index)\n",
    "# print(min(Mgw_emitting_2==Mgw_emitting), max(Mgw_emitting_2==Mgw_emitting))"
   ]
  },
  {
   "cell_type": "code",
   "execution_count": null,
   "metadata": {
    "autoscroll": false,
    "ein.hycell": false,
    "ein.tags": "worksheet-0",
    "slideshow": {
     "slide_type": "-"
    }
   },
   "outputs": [],
   "source": [
    "### what is the most common CE progenitor in the Galaxy that can emitt GWs significantly?\n",
    "### Consider only systems with both stars post-MS\n",
    "def getMostcommonGWCEsystem(folder):\n",
    "\n",
    "    h5frame = glob.glob(folder+\"*.h5\")[0]\n",
    "    bpp =  pd.read_hdf(h5frame, key='bpp') # key evolutionary changes\n",
    "    # print(bpp.columns)    \n",
    "    iCEdoublecore = (bpp.evol_type == 7) & ((bpp.kstar_1>1) & (bpp.kstar_2>1)) # CE initiation and both stars are post MS, so both have a core\n",
    "\n",
    "    ## plot the pre-CE characteristics\n",
    "    fig = plt.figure(figsize=(20., 10.))\n",
    "    gs = gridspec.GridSpec(1,3)\n",
    "    gs.update(wspace=0,hspace=0)# top=1.1)\n",
    "    ax1 = plt.subplot(gs[0])\n",
    "    ax2 = plt.subplot(gs[1])\n",
    "    ax3 = plt.subplot(gs[2])\n",
    "\n",
    "    Mdonor, Msecondary = get_individual_GWemittingM(bpp, iCEdoublecore)\n",
    "    PpreCE = bpp[iCEdoublecore][\"porb\"]\n",
    "\n",
    "    BINS=50\n",
    "\n",
    "    ax1.hist(Mdonor, range=(0,5), bins=BINS)\n",
    "    ax1.set_xlabel(r\"$M_\\mathrm{donor} \\ [M_\\odot]$\",size=30)\n",
    "\n",
    "    ax2.hist(Msecondary, range=(0,20), bins=BINS)\n",
    "    ax2.set_xlabel(r\"$M_\\mathrm{secondary} \\ [M_\\odot]$\",size=30)\n",
    "\n",
    "    ax3.hist(np.log10(PpreCE), range=(-2,4), bins=BINS)\n",
    "    ax3.set_xlabel(r\"$\\log_{10}\\mathrm{P} \\ [days]$\",size=30)\n",
    "    \n",
    "\n",
    "# test\n",
    "fiducial_root = \"/mnt/home/mrenzo/RUNS/CE_GW/CE_pop_synth/COSMIC/qcrits_clayes/\"\n",
    "getMostcommonGWCEsystem(fiducial_root)"
   ]
  },
  {
   "cell_type": "code",
   "execution_count": null,
   "metadata": {
    "autoscroll": false,
    "ein.hycell": false,
    "ein.tags": "worksheet-0",
    "slideshow": {
     "slide_type": "-"
    }
   },
   "outputs": [],
   "source": [
    "def Mcore_Msecondary_pre_CE(folder, ax=\"\", RES=5):\n",
    "    \"\"\" assume double core CE, take Mcore of the more massive star and M of the other star\"\"\"\n",
    "\n",
    "    h5frame = glob.glob(folder+\"*.h5\")[0]\n",
    "    bpp =  pd.read_hdf(h5frame, key='bpp') # key evolutionary changes\n",
    "\n",
    "    iCEdoublecore = (bpp.evol_type == 7) & ((bpp.kstar_1>1) & (bpp.kstar_2>1)) # CE initiation and both stars are post MS, so both have a core\n",
    "\n",
    "    Mdonor, Msecondary = get_individual_GWemittingM(bpp, iCEdoublecore)\n",
    "\n",
    "    ax.set_xlim(0,2)\n",
    "    ax.set_ylim(0,2)\n",
    "    ax.plot(np.linspace(0,20,2),np.linspace(0,20,2),ls=\"--\",lw=2,c=\"#808080\",zorder=10)\n",
    "\n",
    "    xmin, xmax = ax.get_xlim()\n",
    "    ymin, ymax = ax.get_ylim()\n",
    "    X = np.linspace(xmin, xmax, RES+1)\n",
    "    Y = np.linspace(ymin, ymax, RES+1)\n",
    "    mat = np.zeros((len(X),len(Y)))\n",
    "\n",
    "    for i in range(0,len(X)-1,1):\n",
    "        # print(\"x\", i, X[i])\n",
    "        Nx =((Mdonor[:] >= X[i]) & (Mdonor[:] < X[i+1]))\n",
    "        for j in range(0,len(Y)-1,1):\n",
    "            # print(\"y\", j, Y[j])\n",
    "            Ny = ((Msecondary[:] >= Y[j]) & (Msecondary[:] < Y[j+1]))\n",
    "            # print(Nx.sum(),Ny.sum())\n",
    "            mat[j,i] = np.sum((Nx & Ny))\n",
    "            \n",
    "    # print(\"========================\")\n",
    "    # print(folder, \"all double core CE\")\n",
    "    # imax,jmax = np.unravel_index(mat.argmax(), mat.shape)\n",
    "    # # print(mat[imax,jmax], imax, jmax)\n",
    "    # print(\"Mcore=\",X[imax],\"Mother=\", Y[jmax], mat[imax,jmax])\n",
    "    # ax.plot((X[imax]-X[imax-1])/2.0, (Y[jmax]-Y[jmax-1])/2.0, marker='o', c='w', mew=2,mec='k', ms=10)\n",
    "    p = ax.pcolor(X,Y,mat, vmin=0, vmax=50)\n",
    "    ax.plot(0.3, 0.5, marker='o', c='w', mew=2,mec='k', ms=10)\n",
    "    \n",
    "mkPlot(Mcore_Msecondary_pre_CE, RES=25, xlabel=\"$M_\\mathrm{core} \\ [M_\\odot]$\", ylabel=\"$M_\\mathrm{other} \\ [M_\\odot]$\", X=0.5,Y=0.5)\n",
    "# folder = \"/mnt/home/mrenzo/RUNS/CE_GW/CE_pop_synth/COSMIC/qcrits_clayes/\"\n",
    "# for f in folders:\n",
    "#     fig = plt.figure(figsize=(10., 10.))\n",
    "#     gs = gridspec.GridSpec(1,1)\n",
    "#     gs.update(wspace=0,hspace=0)# top=1.1)\n",
    "#     ax = plt.subplot(gs[0])\n",
    "#     Mcore_Msecondary_pre_CE(folder, ax=ax, RES=25)\n",
    "#     ax.set_xlabel(r\"$M_\\mathrm{core} \\ [M_\\odot]$\", size=30)\n",
    "#     ax.set_ylabel(r\"$M_2 \\ [M_\\odot]$\", size=30)\n",
    "#     ax.tick_params(axis='both', which='major', width=2, top=\"on\", right=\"on\", length=12, pad=10, labelsize=30, direction='in', color='w')\n",
    "#     ax.tick_params(axis='both', which='minor', width=2, top=\"on\", right=\"on\", length=6, pad=10, direction='in', color='w')\n"
   ]
  },
  {
   "cell_type": "code",
   "execution_count": null,
   "metadata": {
    "autoscroll": false,
    "ein.hycell": false,
    "ein.tags": "worksheet-0",
    "slideshow": {
     "slide_type": "-"
    }
   },
   "outputs": [],
   "source": [
    "print(0.3/0.5)"
   ]
  },
  {
   "cell_type": "code",
   "execution_count": null,
   "metadata": {
    "autoscroll": false,
    "ein.hycell": false,
    "ein.tags": "worksheet-0",
    "slideshow": {
     "slide_type": "-"
    }
   },
   "outputs": [],
   "source": [
    "def M1_M2_pre_CE(folder, ax, RES=5):\n",
    "    \n",
    "    h5frame = glob.glob(folder+\"*.h5\")[0]\n",
    "    bpp =  pd.read_hdf(h5frame, key='bpp') # key evolutionary changes\n",
    "\n",
    "    iCEdoublecore = (bpp.evol_type == 7) & ((bpp.kstar_1>1) & (bpp.kstar_2>1)) # CE initiation and both stars are post MS, so both have a core\n",
    "    print(folder, \"all double core CE\")\n",
    "\n",
    "    M1 = bpp.loc[iCEdoublecore].mass_1\n",
    "    M2 = bpp.loc[iCEdoublecore].mass_2\n",
    "\n",
    "    ax.set_xlim(0,2)\n",
    "    ax.set_ylim(0,2)\n",
    "    ax.plot(np.linspace(0,20,2),np.linspace(0,20,2),ls=\"--\",lw=2,c=\"#808080\",zorder=10)\n",
    "\n",
    "    xmin, xmax = ax.get_xlim()\n",
    "    ymin, ymax = ax.get_ylim()\n",
    "    X = np.linspace(xmin, xmax, RES)\n",
    "    Y = np.linspace(ymin, ymax, RES)\n",
    "    mat = np.zeros((len(X),len(Y)))\n",
    "\n",
    "    for i in range(0,len(X)-1,1):\n",
    "        # print(\"x\", i, X[i])\n",
    "        Nx =((M1[:] >= X[i]) & (M1[:] < X[i+1]))\n",
    "        for j in range(0,len(Y)-1,1):\n",
    "            # print(\"y\", j, Y[j])\n",
    "            Ny = ((M2[:] >= Y[j]) & (M2[:] < Y[j+1]))\n",
    "            # print(Nx.sum(),Ny.sum())\n",
    "            mat[j,i] = np.sum((Nx & Ny))\n",
    "\n",
    "    p = ax.pcolor(X,Y,mat, vmin=0, vmax=50)\n",
    "\n",
    "mkPlot(M1_M2_pre_CE, RES=20, xlabel=\"$M_1 \\ [M_\\odot]$\", ylabel=\"$M_2 \\ [M_\\odot]$\", X=0.5,Y=0.5)\n",
    "    "
   ]
  },
  {
   "cell_type": "code",
   "execution_count": null,
   "metadata": {
    "autoscroll": false,
    "ein.hycell": false,
    "ein.tags": "worksheet-0",
    "slideshow": {
     "slide_type": "-"
    }
   },
   "outputs": [],
   "source": [
    "def kstar1_kstar2_onsetCE(folder, ax, RES=17):\n",
    "\n",
    "    h5frame = glob.glob(folder+\"*.h5\")[0]\n",
    "    bpp =  pd.read_hdf(h5frame, key='bpp') # key evolutionary changes\n",
    "\n",
    "    iCE = (bpp.evol_type == 7) & ((bpp.kstar_1>1) & (bpp.kstar_2>1)) # CE initiation and both stars are post MS, so both have a core\n",
    "    print(folder, \"all CE\")\n",
    "\n",
    "    k1 = bpp.loc[iCE].kstar_1\n",
    "    k2 = bpp.loc[iCE].kstar_2\n",
    "\n",
    "    ax.set_xlim(-0.5,15.5)\n",
    "    ax.set_ylim(-0.5,15.5)\n",
    "    ## hardcode resolution\n",
    "    RES=17\n",
    "\n",
    "    xmin, xmax = ax.get_xlim()\n",
    "    ymin, ymax = ax.get_ylim()\n",
    "    X = np.linspace(xmin, xmax, RES)\n",
    "    Y = np.linspace(ymin, ymax, RES)\n",
    "    mat = np.zeros((len(X),len(Y)))\n",
    "\n",
    "    for i in range(0,len(X)-1,1):\n",
    "        # print(\"x\", i, X[i])\n",
    "        Nx =((k1[:] >= X[i]) & (k1[:] < X[i+1]))\n",
    "        for j in range(0,len(Y)-1,1):\n",
    "            # print(\"y\", j, Y[j])\n",
    "            Ny = ((k2[:] >= Y[j]) & (k2[:] < Y[j+1]))\n",
    "            # print(Nx.sum(),Ny.sum())\n",
    "            mat[j,i] = np.sum((Nx & Ny))\n",
    "\n",
    "    p = ax.pcolor(X,Y,np.log10(mat), vmin=0, vmax=3)\n",
    "    \n",
    "mkPlot(kstar1_kstar2_onsetCE,RES=15, xlabel=\"k1\", ylabel=\"k2\")    "
   ]
  },
  {
   "cell_type": "code",
   "execution_count": null,
   "metadata": {
    "autoscroll": false,
    "ein.hycell": false,
    "ein.tags": "worksheet-0",
    "slideshow": {
     "slide_type": "-"
    }
   },
   "outputs": [],
   "source": [
    "def plot_q_Pinit(folder,ax, RES=5):\n",
    "\n",
    "    h5frame = glob.glob(folder+\"*.h5\")[0]\n",
    "    bpp =  pd.read_hdf(h5frame, key='bpp') # key evolutionary changes\n",
    "\n",
    "    iCEdoublecore = (bpp.evol_type == 7) & ((bpp.kstar_1>1) & (bpp.kstar_2>1)) # CE initiation and both stars are post MS, so both have a core\n",
    "\n",
    "    M1 = bpp.loc[iCEdoublecore].mass_1\n",
    "    M2 = bpp.loc[iCEdoublecore].mass_2\n",
    "    logP =  np.log10(bpp.loc[bpp.evol_type==7].porb)\n",
    "    q = M2/M1\n",
    "\n",
    "    ax.set_xlim(0,5)\n",
    "    ax.set_ylim(-1,3.5)\n",
    "\n",
    "    xmin, xmax = ax.get_xlim()\n",
    "    ymin, ymax = ax.get_ylim()\n",
    "    X = np.linspace(xmin, xmax, RES)\n",
    "    Y = np.linspace(ymin, ymax, RES)\n",
    "    mat = np.zeros((len(X),len(Y)))\n",
    "\n",
    "    for i in range(0,len(X)-1,1):\n",
    "        # print(\"x\", i, X[i])\n",
    "        Nx =((q[:] >= X[i]) & (q[:] < X[i+1]))\n",
    "        for j in range(0,len(Y)-1,1):\n",
    "            # print(\"y\", j, Y[j])\n",
    "            Ny = ((logP[:] >= Y[j]) & (logP[:] < Y[j+1]))\n",
    "            # print(Nx.sum(),Ny.sum())\n",
    "            mat[j,i] = np.sum((Nx & Ny))\n",
    "\n",
    "    p = ax.pcolor(X,Y,mat, vmin=0, vmax=30)\n",
    "    ax.set_xlabel(r\"$q_\\mathrm{pre-CE}=M2/M1$\", fontsize=30)\n",
    "    ax.set_ylabel(r\"$\\log_{10}(P/\\mathrm{days})$\",fontsize=30)\n",
    "\n",
    "mkPlot(plot_q_Pinit,RES=40, xlabel=\"$q$\", ylabel=\"logP\")\n",
    "    "
   ]
  },
  {
   "cell_type": "code",
   "execution_count": null,
   "metadata": {
    "autoscroll": false,
    "ein.hycell": false,
    "ein.tags": "worksheet-0",
    "slideshow": {
     "slide_type": "-"
    }
   },
   "outputs": [],
   "source": [
    "conv = pd.read_hdf(h5frame, key='conv')\n",
    "bpp =  pd.read_hdf(h5frame, key='bpp') # key evolutionary changes\n",
    "# bcm =  pd.read_hdf(h5frame, key='bcm') # specific times (with the default init this is at the end of the evolution)\n",
    "initC = pd.read_hdf(h5frame, key=\"initCond\") # initial conditions\n",
    "total_mass = pd.read_hdf(h5frame, key='mass_stars')"
   ]
  },
  {
   "cell_type": "code",
   "execution_count": null,
   "metadata": {
    "autoscroll": false,
    "ein.hycell": false,
    "ein.tags": "worksheet-0",
    "slideshow": {
     "slide_type": "-"
    }
   },
   "outputs": [],
   "source": [
    "print(bpp.columns)\n",
    "# print(bpp.mass_1[iCEinit])\n",
    "# print(bpp.mass_2[iCEinit])\n",
    "# print(bpp.bin_num[iCEinit])\n",
    "\n",
    "# CEbin_num = bpp.loc[bpp.evol_type==7].bin_num\n",
    "RLOFbin_num = bpp.loc[bpp.evol_type==3].bin_num\n",
    "for bin_num in CEbin_num:\n",
    "    # print(bpp.loc[bpp.bin_num == bin_num][[\"mass_1\",\"mass_2\",\"evol_type\", \"kstar_1\",\"kstar_2\",\"porb\", \"bin_num\"]])\n",
    "    "
   ]
  },
  {
   "cell_type": "code",
   "execution_count": null,
   "metadata": {
    "autoscroll": false,
    "ein.hycell": false,
    "ein.tags": "worksheet-0",
    "slideshow": {
     "slide_type": "-"
    }
   },
   "outputs": [],
   "source": [
    "def getCErates(folder, SFR=3.5):\n",
    "    # SFR is the assumed star formation rate in Msun/yr\n",
    "    # folder contains the h5 frame output from cosmic-pop\n",
    "    \n",
    "    h5frame = glob.glob(folder+\"*.h5\")[0]\n",
    "    bpp =  pd.read_hdf(h5frame, key='bpp') # key evolutionary changes\n",
    "    total_mass = pd.read_hdf(h5frame, key='mass_stars')\n",
    "    # total mass of the simulation\n",
    "    Mtot = max(np.array(total_mass))[0]\n",
    "    \n",
    "    ## all CE events\n",
    "    ## convert to astrophysical rate\n",
    "    ## following https://cosmic-popsynth.github.io/docs/stable/fixedpop/index.html\n",
    "    \n",
    "    # get all CE event initiations\n",
    "    iCEinit = bpp.evol_type == 7 # evol_type == 7 means beginning of CE event\n",
    "        \n",
    "    Nastro_CE = np.sum(iCEinit) # sum of all the CE events that are occurring\n",
    "    Nastro_CE *= 1.0/Mtot # CE event occurring per unit mass of star formed [1/Msun]\n",
    "    Nastro_CE *= SFR # [1/yr]\n",
    "\n",
    "    print(\"number of CE events of any type initiated per year:\",Nastro_CE)\n",
    "    print(\"so every ~ %.0f\"%float(1.0/Nastro_CE),\"years a CE event starts in the Galaxy\")\n",
    "    \n",
    "    print(\"=============================================================================\")\n",
    "    # =============================================================================\n",
    "    \n",
    "    ## only double core CE events\n",
    "    # now lets get only the ones with a double core CE\n",
    "    iCEdoublecore = (bpp.evol_type == 7) & ((bpp.kstar_1>1) & (bpp.kstar_2>1)) # CE initiation and both stars are post MS, so both have a core\n",
    "    # print(np.sum(iCEdoublecore))\n",
    "    \n",
    "    Nastro_CEdc = np.sum(iCEdoublecore) # sum of all the CE events that are occurring\n",
    "    Nastro_CEdc *= 1.0/Mtot # CE event occurring per unit mass of star formed [1/Msun]\n",
    "    Nastro_CEdc *= SFR # [1/yr]\n",
    "    \n",
    "    print(\"number of double core (both post-MS) CE initiated per year:\",Nastro_CEdc)\n",
    "    print(\"so every ~ %.0f\"%float(1.0/Nastro_CEdc),\"years a double core CE event starts in the Galaxy\")\n",
    "    print(\"=============================================================================\")\n",
    "    # =============================================================================\n",
    "    ## only double core CE events\n",
    "    # now lets get only the ones with a double core CE\n",
    "    iCEdoublecoreMS = (bpp.evol_type == 7) & ((bpp.kstar_1>1) & (bpp.kstar_2<=1)) # CE initiation and both stars are post MS, so both have a core\n",
    "    # print(np.sum(iCEdoublecore))\n",
    "    \n",
    "    Nastro_CEdcMS = np.sum(iCEdoublecoreMS) # sum of all the CE events that are occurring\n",
    "    Nastro_CEdcMS *= 1.0/Mtot # CE event occurring per unit mass of star formed [1/Msun]\n",
    "    Nastro_CEdcMS *= SFR # [1/yr]\n",
    "    \n",
    "    print(\"number of kstar_1 and kstar_2 <=1 CE initiated per year:\",Nastro_CEdcMS)\n",
    "    print(\"so every ~ %.0f\"%float(1.0/Nastro_CEdcMS),\"years a double core CE event starts in the Galaxy\")\n",
    "    print(\"=============================================================================\")\n",
    "\n",
    "    # ## only CE with a compact object\n",
    "    # iCEcompobj = (bpp.evol_type == 7) & (isNSBHWD(bpp.kstar_1) | isNSBHWD(bpp.kstar_2))\n",
    "    \n",
    "\n",
    "    # Nastro_CEcompobj = np.sum(iCEcompobj) # sum of all the CE events that are occurring\n",
    "    # Nastro_CEcompobj *= 1.0/Mtot # CE event occurring per unit mass of star formed [1/Msun]\n",
    "    # Nastro_CEcompobj *= SFR # [1/yr]\n",
    "    \n",
    "    # print(\"number of CE with NS/BH initiated per year:\",Nastro_CEcompobj)\n",
    "    # print(\"so every ~ %.0f\"%float(1.0/Nastro_CEcompobj),\"years a double core CE event starts in the Galaxy\")\n",
    "    # print(\"\")\n",
    "    # print(\"=============================================================================\")\n",
    "    # print(\"\")\n",
    "    # =============================================================================\n",
    "\n"
   ]
  },
  {
   "cell_type": "code",
   "execution_count": null,
   "metadata": {
    "autoscroll": false,
    "ein.hycell": false,
    "ein.tags": "worksheet-0",
    "slideshow": {
     "slide_type": "-"
    }
   },
   "outputs": [],
   "source": [
    "## run this cell to get CE rates for different types\n",
    "root = \"/mnt/home/mrenzo/RUNS/CE_GW/CE_pop_synth/COSMIC\"\n",
    "folders = sorted(glob.glob(root+'/*/'))\n",
    "for f in folders:\n",
    "    print(\"=============================================================================\")\n",
    "    print(\"*assuming SFR=3.5Msun/yr*\", f.split('/')[-2])\n",
    "    print(\"=============================================================================\")\n",
    "    getCErates(f)\n",
    "    print(\"=============================================================================\")\n",
    "    print(\"=============================================================================\")\n",
    "    print(\"=============================================================================\")"
   ]
  }
 ],
 "metadata": {
  "kernelspec": {
   "display_name": "Python 3",
   "language": "python",
   "name": "python3"
  },
  "language_info": {
   "codemirror_mode": {
    "name": "ipython",
    "version": 3
   },
   "file_extension": ".py",
   "mimetype": "text/x-python",
   "name": "python",
   "nbconvert_exporter": "python",
   "pygments_lexer": "ipython3",
   "version": "3.7.4"
  },
  "name": "CE_GWs.ipynb"
 },
 "nbformat": 4,
 "nbformat_minor": 2
}
