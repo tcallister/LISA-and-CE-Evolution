{
 "cells": [
  {
   "cell_type": "markdown",
   "metadata": {
    "collapsed": false,
    "ein.tags": "worksheet-0",
    "slideshow": {
     "slide_type": "-"
    }
   },
   "source": [
    "# Get CE rate as a function of M_gw emitting\n",
    "author: [Mathieu Renzo](mrenzo@flatironinstitute.org)"
   ]
  },
  {
   "cell_type": "code",
   "execution_count": 5,
   "metadata": {
    "autoscroll": false,
    "collapsed": false,
    "ein.hycell": false,
    "ein.tags": "worksheet-0",
    "slideshow": {
     "slide_type": "-"
    }
   },
   "outputs": [],
   "source": [
    "import sys\n",
    "import matplotlib.pyplot as plt\n",
    "import matplotlib as mpl\n",
    "from matplotlib import rc\n",
    "import pandas as pd\n",
    "import os\n",
    "import glob\n",
    "# auxiliary functions to analyze data from COSMIC\n",
    "from COSMIClib import * # contains numpy\n",
    "# Mathieu's default plots\n",
    "# see https://github.com/mathren90/plotFunc\n",
    "sys.path.append('/mnt/home/mrenzo/codes/python_stuff/plotFunc/')\n",
    "from plotDefaults import set_plotDefaults\n",
    "from termcolor import colored\n",
    "import h5py"
   ]
  },
  {
   "cell_type": "code",
   "execution_count": 6,
   "metadata": {
    "autoscroll": false,
    "collapsed": false,
    "ein.hycell": false,
    "ein.tags": "worksheet-0",
    "slideshow": {
     "slide_type": "-"
    }
   },
   "outputs": [
    {
     "name": "stdout",
     "output_type": "stream",
     "text": [
      "done in plotDefaults.py\n"
     ]
    }
   ],
   "source": [
    "set_plotDefaults()"
   ]
  },
  {
   "cell_type": "code",
   "execution_count": 8,
   "metadata": {
    "autoscroll": false,
    "collapsed": false,
    "ein.hycell": false,
    "ein.tags": "worksheet-0",
    "slideshow": {
     "slide_type": "-"
    }
   },
   "outputs": [
    {
     "name": "stdout",
     "output_type": "stream",
     "text": [
      "/mnt/home/mrenzo/RUNS/CE_GW/CE_pop_synth/COSMIC/qcrits_clayes/\n"
     ]
    }
   ],
   "source": [
    "# location of the simulation output\n",
    "root = \"/mnt/home/mrenzo/RUNS/CE_GW/CE_pop_synth/COSMIC/\"\n",
    "folders = sorted(glob.glob(root+\"/qcrits*/\"))\n",
    "# print(folders)\n",
    "default_folder = glob.glob(root+\"qcrits_clayes/\")[0]\n",
    "print(default_folder)"
   ]
  },
  {
   "cell_type": "code",
   "execution_count": 11,
   "metadata": {
    "autoscroll": false,
    "collapsed": false,
    "ein.hycell": false,
    "ein.tags": "worksheet-0",
    "slideshow": {
     "slide_type": "-"
    }
   },
   "outputs": [
    {
     "name": "stdout",
     "output_type": "stream",
     "text": [
      "0.177 0.055\n"
     ]
    }
   ],
   "source": [
    "def getCErates_masscut(folder, SFR=3.5, Mcut = 10):\n",
    "    \"\"\"\n",
    "    SFR is the assumed star formation rate in Msun/yr\n",
    "    folder contains the h5 frame output from cosmic-pop\n",
    "    Mcut the minimum GW emitting mass considered\n",
    "    \"\"\"\n",
    "    h5frame = glob.glob(folder+\"*.h5\")[0]\n",
    "    bpp =  pd.read_hdf(h5frame, key='bpp') # key evolutionary changes\n",
    "    total_mass = pd.read_hdf(h5frame, key='mass_stars')\n",
    "    # total mass of the simulation\n",
    "    Mtot = max(np.array(total_mass))[0]\n",
    "    \n",
    "    # all CE events\n",
    "    # convert to astrophysical rate\n",
    "    # following https://cosmic-popsynth.github.io/docs/stable/fixedpop/index.html\n",
    "    \n",
    "    # get all CE event initiations\n",
    "    iCEinit = bpp.evol_type == 7 # evol_type == 7 means beginning of CE event\n",
    "\n",
    "    # select only a certain GW emitting mass\n",
    "    ## N.B:  getGWemittingM(bpp, index) function is defined in COSMIClib.py\n",
    "    Mgw = getGWemittingM(bpp, iCEinit)\n",
    "    ## NB: Mgw has the length of iCEinit == True\n",
    "    \n",
    "    iMassive_enough = Mgw >= Mcut\n",
    "    ## index = iCEinit * iMassive_enough\n",
    "    index = iMassive_enough\n",
    "    \n",
    "    Nastro_CE = np.sum(index) # sum of all the CE events that are occurring\n",
    "    Nastro_CE *= 1.0/Mtot # CE event occurring per unit mass of star formed [1/Msun]\n",
    "    Nastro_CE *= SFR # [1/yr]\n",
    "\n",
    "    ## only double core CE events\n",
    "    # now lets get only the ones with a double core CE\n",
    "    # CE initiation and both stars are post MS, so both have a core\n",
    "    iCEdoublecore = (bpp.evol_type == 7) & ((bpp.kstar_1>1) & (bpp.kstar_2>1))\n",
    "\n",
    "    Mgw = getGWemittingM(bpp, iCEdoublecore)\n",
    "    iMassive_enough = Mgw >= Mcut\n",
    "    # index_doublecore = iCEinit * iMassive_enough\n",
    "    index_doublecore = iMassive_enough\n",
    "    \n",
    "    Nastro_CEdc = np.sum(index_doublecore) # sum of all the CE events that are occurring\n",
    "    Nastro_CEdc *= 1.0/Mtot # CE event occurring per unit mass of star formed [1/Msun]\n",
    "    Nastro_CEdc *= SFR # [1/yr]\n",
    "    \n",
    "    # print(\"number of double core (both post-MS) CE initiated per year:\",Nastro_CEdc)\n",
    "    # print(\"so every ~ %.0f\"%float(1.0/Nastro_CEdc),\"years a double core CE event starts in the Galaxy\")\n",
    "    return Nastro_CE, Nastro_CEdc\n",
    "\n",
    "# Test -- N.B. Mcut <0 gets all the CE\n",
    "r_all_fiducial, r_core_fiducial = getCErates_masscut(default_folder, Mcut=-1)\n",
    "print(f\"{r_all_fiducial:.3f}\", f\"{r_core_fiducial:.3f}\")"
   ]
  },
  {
   "cell_type": "code",
   "execution_count": 12,
   "metadata": {
    "collapsed": false
   },
   "outputs": [
    {
     "name": "stdout",
     "output_type": "stream",
     "text": [
      "R_all 0.18 + 0.02 - 0.09\n",
      "R_core 0.06 + 0.03 - 0.02\n"
     ]
    }
   ],
   "source": [
    "# get range across simulations\n",
    "min_r_all = 1e99\n",
    "max_r_all = -1e99\n",
    "min_r_core = 1e99\n",
    "max_r_core = -1e99\n",
    "\n",
    "for folder in folders:\n",
    "    r_all, r_core = getCErates_masscut(folder, Mcut=-1)\n",
    "    if r_all < min_r_all:\n",
    "        min_r_all = r_all\n",
    "    if r_all > max_r_all:\n",
    "        max_r_all = r_all\n",
    "    if r_core < min_r_core:\n",
    "        min_r_core = r_core\n",
    "    if r_core > max_r_core:\n",
    "        max_r_core = r_core\n",
    "\n",
    "print(\"R_all\", f\"{r_all_fiducial:.2f}\", \"+\",\n",
    "      f\"{np.absolute(r_all_fiducial-max_r_all):.2f}\", \"-\",\n",
    "      f\"{np.absolute(r_all_fiducial-min_r_all):.2f}\")\n",
    "print(\"R_core\", f\"{r_core_fiducial:.2f}\", \"+\",\n",
    "      f\"{np.absolute(r_core_fiducial-max_r_core):.2f}\", \"-\",\n",
    "      f\"{np.absolute(r_core_fiducial-min_r_core):.2f}\")"
   ]
  },
  {
   "cell_type": "code",
   "execution_count": 13,
   "metadata": {
    "autoscroll": false,
    "collapsed": false,
    "ein.hycell": false,
    "ein.tags": "worksheet-0",
    "slideshow": {
     "slide_type": "-"
    }
   },
   "outputs": [],
   "source": [
    "def getCErates_SepinitCut(folder, SFR=3.5, SepinitCut=1000):\n",
    "    h5frame = glob.glob(folder+\"*.h5\")[0]\n",
    "    bpp =  pd.read_hdf(h5frame, key='bpp') # key evolutionary changes\n",
    "    # print(bpp.columns)\n",
    "    total_mass = pd.read_hdf(h5frame, key='mass_stars')\n",
    "    Mtot = max(np.array(total_mass))[0]\n",
    "\n",
    "    iCEinit = bpp.evol_type == 7 # evol_type == 7 means beginning of CE event   \n",
    "    iCEdoublecore = (bpp.evol_type == 7) & ((bpp.kstar_1>1) & (bpp.kstar_2>1)) # CE initiation and both stars are post MS, so both have a core\n",
    "    \n",
    "    Sep_CE = bpp.loc[iCEinit].sep\n",
    "    Sep_CE_dc = bpp.loc[iCEdoublecore].sep\n",
    "\n",
    "    iCE = iCEinit*(Sep_CE >= SepinitCut)\n",
    "    Nastro_CE = np.sum(iCE) # sum of all the CE events that are occurring\n",
    "    Nastro_CE *= 1.0/Mtot # CE event occurring per unit mass of star formed [1/Msun]\n",
    "    Nastro_CE *= SFR # [1/yr]\n",
    "\n",
    "    iCE_dc = iCEdoublecore*(Sep_CE_dc >= SepinitCut)\n",
    "    Nastro_CEdc = np.sum(iCE_dc) # sum of all the CE events that are occurring\n",
    "    Nastro_CEdc *= 1.0/Mtot # CE event occurring per unit mass of star formed [1/Msun]\n",
    "    Nastro_CEdc *= SFR # [1/yr]\n",
    "\n",
    "    return Nastro_CE, Nastro_CEdc\n",
    "\n",
    "# Test\n",
    "# getCErates_SepinitCut(default_folder, SepinitCut=1000)"
   ]
  },
  {
   "cell_type": "code",
   "execution_count": 14,
   "metadata": {
    "autoscroll": false,
    "collapsed": false,
    "ein.hycell": false,
    "ein.tags": "worksheet-0",
    "slideshow": {
     "slide_type": "-"
    }
   },
   "outputs": [],
   "source": [
    "def getCErates_SepFinalCut(folder, SFR=3.5, SepFinalCut=1000):\n",
    "    h5frame = glob.glob(folder+\"*.h5\")[0]\n",
    "    bpp =  pd.read_hdf(h5frame, key='bpp') # key evolutionary changes\n",
    "    # print(bpp.columns)\n",
    "    total_mass = pd.read_hdf(h5frame, key='mass_stars')\n",
    "    Mtot = max(np.array(total_mass))[0]\n",
    "\n",
    "    iCEFinal = bpp.evol_type == 8 # evol_type == 8 means end of a CE event\n",
    "    iCEdoublecore = (bpp.evol_type == 8) & ((bpp.kstar_1>1) & (bpp.kstar_2>1)) # CE Finaliation and both stars are post MS, so both have a core\n",
    "    \n",
    "    Sep_CE = bpp.loc[iCEFinal].sep\n",
    "    Sep_CE_dc = bpp.loc[iCEdoublecore].sep\n",
    "\n",
    "    iCE = iCEFinal*(Sep_CE >= SepFinalCut)\n",
    "    Nastro_CE = np.sum(iCE) # sum of all the CE events that are occurring\n",
    "    Nastro_CE *= 1.0/Mtot # CE event occurring per unit mass of star formed [1/Msun]\n",
    "    Nastro_CE *= SFR # [1/yr]\n",
    "\n",
    "    iCE_dc = iCEdoublecore*(Sep_CE_dc >= SepFinalCut)\n",
    "    Nastro_CEdc = np.sum(iCE_dc) # sum of all the CE events that are occurring\n",
    "    Nastro_CEdc *= 1.0/Mtot # CE event occurring per unit mass of star formed [1/Msun]\n",
    "    Nastro_CEdc *= SFR # [1/yr]\n",
    "\n",
    "    return Nastro_CE, Nastro_CEdc"
   ]
  },
  {
   "cell_type": "code",
   "execution_count": 17,
   "metadata": {
    "autoscroll": false,
    "collapsed": false,
    "ein.hycell": false,
    "ein.tags": "worksheet-0",
    "slideshow": {
     "slide_type": "-"
    }
   },
   "outputs": [
    {
     "ename": "IndentationError",
     "evalue": "unindent does not match any outer indentation level (<tokenize>, line 20)",
     "output_type": "error",
     "traceback": [
      "\u001b[0;36m  File \u001b[0;32m\"<tokenize>\"\u001b[0;36m, line \u001b[0;32m20\u001b[0m\n\u001b[0;31m    r\"$q_c=2$\"] #, r\"$\\mathrm{Clayes\\ et\\ al.\\ 14}\\ q_c$\", r\"$\\mathrm{Clayes\\ et\\ al.\\ 14}\\ q_c,\\ Z=0.002$\", r\"$\\mathrm{Clayes\\ et\\ al.\\ 14}\\ q_c,\\ \\mathrm{indip.\\ dist}$\"]\u001b[0m\n\u001b[0m    ^\u001b[0m\n\u001b[0;31mIndentationError\u001b[0m\u001b[0;31m:\u001b[0m unindent does not match any outer indentation level\n"
     ]
    }
   ],
   "source": [
    "# plot rate of initiation as a function of the pre-CE separation\n",
    "# left panel of fig. 4\n",
    "fig = plt.figure(figsize=(15., 15.))\n",
    "gs = gridspec.GridSpec(2,2)\n",
    "gs.update(wspace=0,hspace=0)# top=1.1)\n",
    "ax = plt.subplot(gs[0])\n",
    "\n",
    "Ntest = 3\n",
    "Npaper = 101\n",
    "Sepcuts = np.linspace(0, 3000, Ntest)\n",
    "\n",
    "folders = [\"/mnt/home/mrenzo/RUNS/CE_GW/CE_pop_synth/COSMIC/qcrits_0.1/\",]\n",
    "           # \"/mnt/home/mrenzo/RUNS/CE_GW/CE_pop_synth/COSMIC/qcrits_1/\",\n",
    "           \"/mnt/home/mrenzo/RUNS/CE_GW/CE_pop_synth/COSMIC/qcrits_2/\"]\n",
    "           # \"/mnt/home/mrenzo/RUNS/CE_GW/CE_pop_synth/COSMIC/qcrits_clayes/\",\n",
    "           # \"/mnt/home/mrenzo/RUNS/CE_GW/CE_pop_synth/COSMIC/qcrits_clayes_Z0.002/\",\n",
    "           # \"/mnt/home/mrenzo/RUNS/CE_GW/CE_pop_synth/COSMIC/qcrits_indipendent_dist/\"]\n",
    "colors = plt.cm.viridis(np.linspace(0,1, len(folders)))\n",
    "labels = [r\"$q_c=0.1$\", # r\"$q_c=1$\",\n",
    "          r\"$q_c=2$\"] #, r\"$\\mathrm{Clayes\\ et\\ al.\\ 14}\\ q_c$\", r\"$\\mathrm{Clayes\\ et\\ al.\\ 14}\\ q_c,\\ Z=0.002$\", r\"$\\mathrm{Clayes\\ et\\ al.\\ 14}\\ q_c,\\ \\mathrm{indip.\\ dist}$\"]  \n",
    "\n",
    "for folder in folders:\n",
    "    c = colors[folders.index(folder)]\n",
    "    label=labels[folders.index(folder)]\n",
    "    print(\"dealing with\", folder)\n",
    "    allCErate = []\n",
    "    doublecoreCErate = []\n",
    "    for Sepcut in Sepcuts:\n",
    "        Rall, Rdoublecore = getCErates_SepinitCut(folder, SFR=3.5, SepinitCut=Sepcut)    \n",
    "        allCErate.append(Rall)\n",
    "        doublecoreCErate.append(Rdoublecore)\n",
    "    #\n",
    "    ax.plot(Sepcuts, allCErate, lw=3,c=c,ls='-', label=label)\n",
    "    ax.plot(Sepcuts, doublecoreCErate, lw=3,c=c,ls='--')\n",
    "\n",
    "l=ax.legend(fontsize=20, loc=\"lower left\", handletextpad=0.2, handlelength=0.75, ncol=2, columnspacing=0.5) #bbox_to_anchor=(1.05,1.05))\n",
    "l.draw_frame(False)\n",
    "\n",
    "p1, = ax.plot(np.nan, np.nan, lw=3,ls='-', c='k')\n",
    "p2, = ax.plot(np.nan, np.nan, lw=3,ls='--',c='k')\n",
    "\n",
    "l2=ax.legend([p1,p2],[r\"$\\mathrm{all\\ CE}$\",r\"$\\mathrm{both\\ post\\ MS}$\"], fontsize=20,\n",
    "             loc=\"center right\", handletextpad=0.3, ncol=2,\n",
    "             columnspacing=0.6, bbox_to_anchor=(0.7,0.3))\n",
    "l2.draw_frame(False)\n",
    "\n",
    "ax.add_artist(l)\n",
    "\n",
    "# ax.set_xlabel(r\"$\\log_{10}(P_\\mathrm{pre-CE}/ \\mathrm{[days]})$\", fontsize=30)\n",
    "ax.set_xlabel(r\"$\\min(a_\\mathrm{pre-CE})\\ \\mathrm{[R_\\odot]}$\", fontsize=30)\n",
    "ax.set_ylabel(r\"$R_\\mathrm{CE,init} \\ [\\mathrm{yr^{-1}}]$\", fontsize=30)\n",
    "\n",
    "ax.tick_params(axis='both', which='major', width=2, top=\"on\", right=\"on\", length=12, pad=10, labelsize=30, direction='in')\n",
    "ax.tick_params(axis='both', which='minor', width=2, top=\"on\", right=\"on\", length=6, pad=10, direction='in')\n",
    "# ax.xaxis.set_major_locator(MultipleLocator(20))\n",
    "# ax.xaxis.set_minor_locator(MultipleLocator(10))\n",
    "# ax.yaxis.set_major_locator(MultipleLocator(0.1))\n",
    "# ax.yaxis.set_minor_locator(MultipleLocator(0.05))\n",
    "# ax.set_xlim(xmin=1e-50,xmax=3000)\n",
    "ax.set_ylim(7e-6,3e-1)\n",
    "ax.set_xlim(xmin=30, xmax=3100)\n",
    "ax.set_yscale('log')\n",
    "ax.set_xscale('log')\n",
    "ax.spines['top'].set_linewidth(2)\n",
    "ax.spines['bottom'].set_linewidth(2)\n",
    "ax.spines['right'].set_linewidth(2)\n",
    "ax.spines['left'].set_linewidth(2)\n",
    "plt.tight_layout()\n",
    "# plt.savefig(\"/mnt/home/mrenzo/TMP/CE_rate_func_pre-CEsep_label.pdf\", bbox_inches=\"tight\")"
   ]
  },
  {
   "cell_type": "code",
   "execution_count": null,
   "metadata": {
    "autoscroll": false,
    "collapsed": false,
    "ein.hycell": false,
    "ein.tags": "worksheet-0",
    "slideshow": {
     "slide_type": "-"
    }
   },
   "outputs": [],
   "source": [
    "# plot rate of initiation as a function of the mass emitting GWs\n",
    "# right panel of fig. 4\n",
    "fig = plt.figure(figsize=(15., 15.))\n",
    "gs = gridspec.GridSpec(2,2)\n",
    "gs.update(wspace=0,hspace=0)# top=1.1)\n",
    "ax = plt.subplot(gs[0])\n",
    "\n",
    "Ntest = 3\n",
    "Npaper = 101\n",
    "Mcuts  = np.linspace(0,100,Npaper)\n",
    "\n",
    "folders = [\"/mnt/home/mrenzo/RUNS/CE_GW/CE_pop_synth/COSMIC/qcrits_0.1/\",\n",
    "           \"/mnt/home/mrenzo/RUNS/CE_GW/CE_pop_synth/COSMIC/qcrits_1/\",\n",
    "           \"/mnt/home/mrenzo/RUNS/CE_GW/CE_pop_synth/COSMIC/qcrits_2/\",\n",
    "           \"/mnt/home/mrenzo/RUNS/CE_GW/CE_pop_synth/COSMIC/qcrits_clayes/\",\n",
    "           \"/mnt/home/mrenzo/RUNS/CE_GW/CE_pop_synth/COSMIC/qcrits_clayes_Z0.002/\",\n",
    "           \"/mnt/home/mrenzo/RUNS/CE_GW/CE_pop_synth/COSMIC/qcrits_indipendent_dist/\"]\n",
    "colors = plt.cm.viridis(np.linspace(0,1, len(folders)))\n",
    "labels = [r\"$q_c=0.1$\", r\"$q_c=1$\", r\"$q_c=2$\", r\"$\\mathrm{Clayes\\ et\\ al.\\ 14}\\ q_c$\", r\"$\\mathrm{Clayes\\ et\\ al.\\ 14}\\ q_c,\\ Z=0.002$\", r\"$\\mathrm{Clayes\\ et\\ al.\\ 14}\\ q_c,\\ \\mathrm{indip.\\ dist}$\"]\n",
    "\n",
    "for folder in folders:\n",
    "    c = colors[folders.index(folder)]\n",
    "    print(\"dealing with\", folder)\n",
    "    label = labels[folders.index(folder)]\n",
    "    allCErate = []\n",
    "    doublecoreCErate = []\n",
    "    for Mcut in Mcuts:\n",
    "        Rall, Rdoublecore = getCErates_masscut(folder, SFR=3.5, Mcut=Mcut)    \n",
    "        allCErate.append(Rall)\n",
    "        doublecoreCErate.append(Rdoublecore)\n",
    "    #\n",
    "    ax.plot(Mcuts, allCErate, lw=3,c=c,ls='-', label=label)\n",
    "    ax.plot(Mcuts, doublecoreCErate, lw=3,c=c,ls='--')\n",
    "\n",
    "# l=ax.legend(fontsize=20, loc=\"lower left\", handletextpad=0.1, handlelength=0.7, ncol=1, columnspacing=0.5) #bbox_to_anchor=(1.05,1.05))\n",
    "# l.draw_frame(False)\n",
    "\n",
    "# p1, = ax.plot(np.nan, np.nan, lw=3,ls='-', c='k', label=r\"all CE\")\n",
    "# p2, = ax.plot(np.nan, np.nan, lw=3,ls='--',c='k', label=r\"both post MS\")\n",
    "\n",
    "\n",
    "l2=ax.legend([p1,p2],[r\"$\\mathrm{all\\ CE}$\",r\"$\\mathrm{both\\ post\\ MS}$\"], fontsize=20,\n",
    "             loc=\"upper right\", handletextpad=0.3, ncol=1,\n",
    "             columnspacing=0.6)# , bbox_to_anchor=(0.95,0.65))\n",
    "l2.draw_frame(False)\n",
    "\n",
    "# ax.add_artist(l)\n",
    "\n",
    "ax.set_xlabel(r\"$\\min(M_\\mathrm{GW\\ emitting}) \\ [M_\\odot]$\", fontsize=30)\n",
    "ax.set_ylabel(r\"$R_\\mathrm{CE,init} \\ [\\mathrm{yr^{-1}}]$\", fontsize=30)\n",
    "\n",
    "ax.tick_params(axis='both', which='major', width=2, top=\"on\", right=\"on\", length=12, pad=10, labelsize=30, direction='in')\n",
    "ax.tick_params(axis='both', which='minor', width=2, top=\"on\", right=\"on\", length=6, pad=10, direction='in')\n",
    "ax.set_xlim(1,130)\n",
    "ax.set_ylim(7e-6,2e-1)\n",
    "# ax.xaxis.set_major_locator(MultipleLocator(20))\n",
    "# ax.xaxis.set_minor_locator(MultipleLocator(10))\n",
    "# ax.yaxis.set_major_locator(MultipleLocator(0.1))\n",
    "# ax.yaxis.set_minor_locator(MultipleLocator(0.05))\n",
    "ax.set_yscale('log')\n",
    "ax.set_xscale('log')\n",
    "ax.spines['top'].set_linewidth(2)\n",
    "ax.spines['bottom'].set_linewidth(2)\n",
    "ax.spines['right'].set_linewidth(2)\n",
    "ax.spines['left'].set_linewidth(2)\n",
    "plt.tight_layout()\n",
    "plt.savefig(\"/mnt/home/mrenzo/TMP/CE_rate_Mgw_subset_label.pdf\", bbox_inches=\"tight\")"
   ]
  },
  {
   "cell_type": "code",
   "execution_count": null,
   "metadata": {
    "collapsed": false
   },
   "outputs": [],
   "source": [
    "# plot rate of initiation as a function of the post-CE separation\n",
    "# this is not used in the paper\n",
    "fig = plt.figure(figsize=(15., 15.))\n",
    "gs = gridspec.GridSpec(2,2)\n",
    "gs.update(wspace=0,hspace=0)# top=1.1)\n",
    "ax = plt.subplot(gs[0])\n",
    "\n",
    "Sepcuts = np.linspace(0,3000, 101)\n",
    "folders = [\"/mnt/home/mrenzo/RUNS/CE_GW/CE_pop_synth/COSMIC/qcrits_0.1/\",\n",
    "           \"/mnt/home/mrenzo/RUNS/CE_GW/CE_pop_synth/COSMIC/qcrits_1/\",\n",
    "           \"/mnt/home/mrenzo/RUNS/CE_GW/CE_pop_synth/COSMIC/qcrits_2/\",\n",
    "           \"/mnt/home/mrenzo/RUNS/CE_GW/CE_pop_synth/COSMIC/qcrits_clayes/\",\n",
    "           \"/mnt/home/mrenzo/RUNS/CE_GW/CE_pop_synth/COSMIC/qcrits_clayes_Z0.002/\",\n",
    "           \"/mnt/home/mrenzo/RUNS/CE_GW/CE_pop_synth/COSMIC/qcrits_indipendent_dist/\"]\n",
    "colors = plt.cm.viridis(np.linspace(0,1, len(folders)))\n",
    "labels = [r\"$q_c=0.1$\", r\"$q_c=1$\", r\"$q_c=2$\", r\"Clayes et al. 14 $q_c$\", r\"Clayes et al. 14 $q_c$, $Z=0.002$\", r\"Clayes et al. 14 $q_c$, indip. dist\"]\n",
    "\n",
    "for folder in folders:\n",
    "    c = colors[folders.index(folder)]\n",
    "    print(\"dealing with\", folder, c)\n",
    "    allCErate = []\n",
    "    doublecoreCErate = []\n",
    "    for Sepcut in Sepcuts:\n",
    "        Rall, Rdoublecore = getCErates_SepFinalCut(folder, SFR=3.5, SepFinalCut=Sepcut)    \n",
    "        allCErate.append(Rall)\n",
    "        doublecoreCErate.append(Rdoublecore)\n",
    "    #\n",
    "    ax.plot(Sepcuts, allCErate, lw=3,c=c,ls='-')\n",
    "    ax.plot(Sepcuts, doublecoreCErate, lw=3,c=c,ls='--')\n",
    "\n",
    "ax.plot(np.nan, np.nan, lw=3,ls='-', c='k', label=r\"all CE\")\n",
    "ax.plot(np.nan, np.nan, lw=3,ls='--',c='k', label=r\"double core CE\")\n",
    "ax.plot(np.nan, np.nan, lw=3,ls='-', c='b', label=r\"$qcrits=0.0001$\")\n",
    "ax.plot(np.nan, np.nan, lw=3,ls='-', c='#4477AA', label=r\"$qcrits=0.1$\")\n",
    "ax.plot(np.nan, np.nan, lw=3,ls='-', c='#44AAAA', label=r\"$qcrits=1$\")\n",
    "ax.plot(np.nan, np.nan, lw=3,ls='-', c='#44AA77', label=r\"$qcrits=1000$\")\n",
    "ax.plot(np.nan, np.nan, lw=3,ls='-', c='#AAAA44', label=r\"$qcrits=2$\")\n",
    "ax.plot(np.nan, np.nan, lw=3,ls='-', c='#AA7744', label=r\"$qcrits=Clayes$\")\n",
    "ax.plot(np.nan, np.nan, lw=3,ls='-', c='#AA4455', label=r\"$qcrits=Clayes, Z=0.002$\")\n",
    "ax.plot(np.nan, np.nan, lw=3,ls='-', c='#AA4488', label=r\"$qcrits=Clayes, indip. dist$\")\n",
    "ax.plot(np.nan, np.nan, lw=3,ls='-', c='r', label=r\"$qcrits=\\infty$\")\n",
    "\n",
    "l=ax.legend(fontsize=30, loc=\"best\", bbox_to_anchor=(1.05,1.05))\n",
    "l.draw_frame(False)\n",
    "\n",
    "# ax.set_xlabel(r\"$\\log_{10}(P_\\mathrm{pre-CE}/ \\mathrm{[days]})$\", fontsize=30)\n",
    "ax.set_xlabel(r\"$\\log_{10}(a_\\mathrm{post-CE}/ \\mathrm{[R_\\odot]})$\", fontsize=30)\n",
    "ax.set_ylabel(r\"$\\mathrm{Initiation\\ rate} \\ [\\mathrm{yr^{-1}}]$\", fontsize=30)\n",
    "\n",
    "ax.tick_params(axis='both', which='major', width=2, top=\"on\", right=\"on\", length=12, pad=10, labelsize=30, direction='in')\n",
    "ax.tick_params(axis='both', which='minor', width=2, top=\"on\", right=\"on\", length=6, pad=10, direction='in')\n",
    "# ax.xaxis.set_major_locator(MultipleLocator(20))\n",
    "# ax.xaxis.set_minor_locator(MultipleLocator(10))\n",
    "# ax.yaxis.set_major_locator(MultipleLocator(0.1))\n",
    "# ax.yaxis.set_minor_locator(MultipleLocator(0.05))\n",
    "# ax.set_xlim(1e-8,3000)\n",
    "ax.set_yscale('log')\n",
    "ax.set_xscale('log')\n",
    "ax.spines['top'].set_linewidth(2)\n",
    "ax.spines['bottom'].set_linewidth(2)\n",
    "ax.spines['right'].set_linewidth(2)\n",
    "ax.spines['left'].set_linewidth(2)\n",
    "plt.tight_layout()\n",
    "# plt.savefig(\"/mnt/home/mrenzo/TMP/CE_rate_func_post-CEsep.pdf\")"
   ]
  },
  {
   "cell_type": "markdown",
   "metadata": {
    "collapsed": false
   },
   "source": [
    "# ------------------------------------------------------------------------------------"
   ]
  },
  {
   "cell_type": "code",
   "execution_count": null,
   "metadata": {
    "collapsed": false
   },
   "outputs": [],
   "source": [
    "def typesMap(folder):\n",
    "    \"\"\" check stellar types at onset of CE \"\"\"\n",
    "    fig = plt.figure(figsize=(15., 15.))\n",
    "    gs = gridspec.GridSpec(2,2)\n",
    "    gs.update(wspace=0,hspace=0)# top=1.1)\n",
    "    ax = plt.subplot(gs[0])\n",
    "    # read data\n",
    "    h5frame = glob.glob(folder+\"*.h5\")[0]\n",
    "    bpp =  pd.read_hdf(h5frame, key='bpp') # key evolutionary changes\n",
    "    iCEinit = bpp.evol_type == 7 # evol_type == 7 means beginning of CE event   \n",
    "    k1 = bpp.loc[iCEinit].kstar_1\n",
    "    k2 = bpp.loc[iCEinit].kstar_2\n",
    "\n",
    "    ax.scatter(k1, k2)\n",
    "    ax.set_xlabel(r\"k1\",size=30)\n",
    "    ax.set_ylabel(r\"k2\",size=30)\n",
    "    ax.axvline(10,0,1)\n",
    "    ax.axhline(10,0,1)\n",
    "    ax.plot(np.linspace(0,15,2),np.linspace(0,15,2))\n",
    "    ax.set_xlim(0,15)\n",
    "    ax.set_ylim(0,15)\n",
    "\n",
    "    ax.tick_params(axis='both', which='major', width=2, top=\"on\", right=\"on\", length=12, pad=10, labelsize=30, direction='in')\n",
    "    ax.tick_params(axis='both', which='minor', width=2, top=\"on\", right=\"on\", length=6, pad=10, direction='in')\n",
    "\n",
    "    ax.xaxis.set_major_locator(MultipleLocator(1))\n",
    "    ax.yaxis.set_major_locator(MultipleLocator(1))\n",
    "    # ax.xaxis.set_minor_locator(MultipleLocator(10))\n",
    "   \n",
    "# test\n",
    "typesMap(default_folder)    "
   ]
  }
 ],
 "metadata": {
  "kernelspec": {
   "argv": [
    "/mnt/home/mrenzo/anaconda3/bin/python",
    "-m",
    "ipykernel_launcher",
    "-f",
    "{connection_file}"
   ],
   "display_name": "Python 3",
   "env": null,
   "interrupt_mode": "signal",
   "language": "python",
   "metadata": null,
   "name": "python3"
  },
  "name": "CE_rate_init.ipynb"
 },
 "nbformat": 4,
 "nbformat_minor": 2
}
