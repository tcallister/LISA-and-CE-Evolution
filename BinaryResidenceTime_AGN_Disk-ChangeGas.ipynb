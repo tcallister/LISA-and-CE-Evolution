{
 "cells": [
  {
   "cell_type": "markdown",
   "metadata": {},
   "source": [
    "# Binary black hole mergers in AGN disks -- Playing With Gas"
   ]
  },
  {
   "cell_type": "markdown",
   "metadata": {},
   "source": [
    "### Chiara Mingarelli, cmingarelli@flatironinstitute.org"
   ]
  },
  {
   "cell_type": "code",
   "execution_count": 1,
   "metadata": {},
   "outputs": [],
   "source": [
    "# RUN IN PYTHON 3.XX\n",
    "from IPython.display import display, Math, Latex\n",
    "import math\n",
    "from math import sqrt, cos, sin, pi, log10\n",
    "import numpy as np\n",
    "import scipy\n",
    "import matplotlib.pyplot as plt\n",
    "from matplotlib.ticker import FormatStrFormatter, LinearLocator, NullFormatter, NullLocator, MultipleLocator\n",
    "import matplotlib.ticker\n",
    "import matplotlib.colors\n",
    "from matplotlib.font_manager import FontProperties\n",
    "from matplotlib import rc, text\n",
    "\n",
    "%matplotlib inline\n",
    "%config InlineBackend.figure_format = \"retina\""
   ]
  },
  {
   "cell_type": "code",
   "execution_count": 4,
   "metadata": {},
   "outputs": [
    {
     "data": {
      "text/plain": [
       "4.288976130559507e-06"
      ]
     },
     "execution_count": 4,
     "metadata": {},
     "output_type": "execute_result"
    }
   ],
   "source": [
    "mchirp(1,1)"
   ]
  },
  {
   "cell_type": "code",
   "execution_count": 2,
   "metadata": {},
   "outputs": [],
   "source": [
    "# physical constants for natural units c = G = 1\n",
    "c=2.99792458*(10**8)\n",
    "G=6.67428*(10**(-11))\n",
    "s_mass=G*(1.98892*10**(30))/(c**3)\n",
    "solar_mass_gr = 1.989e33\n",
    "secs_in_pc = 102927133.01 #about 1e8 s per pc"
   ]
  },
  {
   "cell_type": "code",
   "execution_count": 3,
   "metadata": {},
   "outputs": [],
   "source": [
    "# Mass functions\n",
    "\n",
    "def mu(m1,m2): return s_mass*(m1*m2)/(m1+m2) # reduced mass\n",
    "\n",
    "def M(m1,m2):  return s_mass*(m1+m2) # total mass\n",
    "\n",
    "def mchirp(m1,m2): return ((mu(m1,m2))**(3./5))*((M(m1,m2))**(2./5))  # chirp mass\n",
    "\n",
    "def mchirp_q(q,Mtot): \n",
    "    \"\"\"\n",
    "    chirp mass in terms of q and M_tot. Answer in seconds.\n",
    "    \"\"\"\n",
    "    ans = (q/(1+q)**2)**(3/5)*Mtot*s_mass\n",
    "    return ans\n",
    "\n",
    "def parsec2sec(d): return d*3.08568025e16/299792458\n",
    "\n",
    "def sec2pc(sec): return 299792458*sec/3.08568025e16\n",
    "\n",
    "\n",
    "# For GWs: strain, GW frequency and time to coalescence \n",
    "\n",
    "\n",
    "def generic_strain(q_mass_ratio, Mtot, dist, freq):\n",
    "    strain = sqrt(32./5)*mchirp_q(q_mass_ratio,Mtot)**(5/3)*(pi*freq)**(2/3)/parsec2sec(dist*1e6)\n",
    "    return strain\n",
    "\n",
    "def generic_strain_wMc(chirp_mass, dist, freq):\n",
    "    strain = sqrt(32./5)*(chirp_mass*s_mass)**(5/3)*(pi*freq)**(2/3)/parsec2sec(dist*1e6)\n",
    "    return strain\n",
    "\n",
    "def freq_gw(q, Mtot, tc):\n",
    "    \"\"\"\n",
    "    GW frquency as a function of time to coalescence in years, total mass and mass ratio\n",
    "    Result from integration of standard df/dt for GWs\n",
    "    \"\"\"\n",
    "    ans = mchirp_q(q,Mtot)**(-5/8)/pi*(256/5*tc*31556926)**(-3/8)\n",
    "    return ans\n",
    "\n",
    "def freq_gw_wMc(chirp_mass, tc):\n",
    "    \"\"\"\n",
    "    GW frquency as a function of time to coalescence in years and chirp mass (directly)\n",
    "    Result from integration of standard df/dt for GWs\n",
    "    \"\"\"\n",
    "    ans = (chirp_mass*s_mass)**(-5/8)/pi*(256/5*tc*31556926)**(-3/8)\n",
    "    return ans\n",
    "\n",
    "def time_to_c(q, Mtot, freq):\n",
    "    \"\"\"\n",
    "    time to coalescence of a binary in seconds\n",
    "    \"\"\"\n",
    "    ans = (pi*freq)**(-8/3)*mchirp_q(q,Mtot)**(-5/3)*5/256\n",
    "    return ans\n",
    "\n",
    "def time_to_c_wMc(chirp_mass, freq):\n",
    "    \"\"\"\n",
    "    freq. in Hz, input chirp mass in solar masses, answer in years\n",
    "    \"\"\"\n",
    "    ans = (pi*freq)**(-8/3)*(chirp_mass*s_mass)**(-5/3)*5/256\n",
    "    return (ans/31556926)\n",
    "\n",
    "def a_to_f(Mtot, fgw):\n",
    "    # Kepler's 3rd law\n",
    "    # answer in seconds\n",
    "    frac = (Mtot*s_mass/(pi*fgw)**2)**(1./3)\n",
    "    return frac\n",
    "\n",
    "def fgw_to_a(Mtot, a_bh):\n",
    "    \"\"\"\n",
    "    Kepler's 3rd law\n",
    "    input BH mass in solar masses\n",
    "    a in pc\n",
    "    answer in seconds\n",
    "    \"\"\"\n",
    "    ans = (Mtot*s_mass/parsec2sec(a_bh)**3)**(0.5)/pi\n",
    "    return ans"
   ]
  },
  {
   "cell_type": "code",
   "execution_count": 6,
   "metadata": {},
   "outputs": [],
   "source": [
    "# lisa starts at 0.5 AU\n",
    "# ends at around 1e-2 AU"
   ]
  },
  {
   "cell_type": "code",
   "execution_count": 7,
   "metadata": {},
   "outputs": [],
   "source": [
    "## Hardening and Dynamical Friction Timescales"
   ]
  },
  {
   "cell_type": "code",
   "execution_count": 32,
   "metadata": {},
   "outputs": [],
   "source": [
    "# Black hole merger timescales from galaxy merger timescale; Binney and Tremaine 1987 \n",
    "# \"Galactic Dynamics\"; also Sesana and Khan 2015\n",
    "\n",
    "def t_hard(Mstar,q,gamma,Mtot):\n",
    "    \"\"\"\n",
    "    Hardening timescale with stars, Eq. 7 Sesana & Khan 2015\n",
    "    Answer in yrs\n",
    "    \"\"\"\n",
    "    a_val = parsec2sec(r0_sol(Mstar, gamma))\n",
    "    H = 15\n",
    "    aStarGW = a_StarGW(Mstar,q,Mtot,gamma,H) #check units\n",
    "    sigma_inf = sigmaVel(Mstar)*1000/c\n",
    "    rinf_val = r_inf(Mstar,gamma,Mtot)\n",
    "    rho_inf = rho_r(Mstar, gamma, rinf_val)\n",
    "    ans = sigma_inf/(H*rho_inf*aStarGW)\n",
    "    return ans/31536000\n",
    "\n",
    "def t_gw(a, q, Mtot):\n",
    "    # ans in yr\n",
    "    # a in pc\n",
    "    const = 5/256\n",
    "    num = parsec2sec(a)**4\n",
    "    deno = (Mtot*s_mass)**3 * q/(1+q)**2\n",
    "    ans = const*num/deno\n",
    "    return ans/31556926\n",
    "\n",
    "def soundSpeed(Temp):\n",
    "    \"\"\"\n",
    "    This is the sound speed, c_s, where c_s^2 = k_B*T/m_p\n",
    "    Returns dimensionless quantity. To get physical units, multiply by c.\n",
    "    \"\"\"\n",
    "    kbTemp_GR = 3.80526e-76*Temp # seconds, for 1K\n",
    "    mProton = 4.14324e-63 #seconds\n",
    "    ans = kbTemp_GR/mProton\n",
    "    return sqrt(ans)\n",
    "    \n",
    "def Mdot_to_Sigma(a_bin, alpha, Temp, SigmaSurf, bin_Mass):\n",
    "    \"\"\"\n",
    "    Parameters from Baruteau et al. 2011.\n",
    "    SigmaSurf input in g/cm^2 (change to kg/m**2)\n",
    "    input binary mass in solar masses (converts to seconds)\n",
    "    input semimajor axis in pc (converts to seconds)\n",
    "    answer is kg/s\n",
    "    for solar masses, divide by 1.98892*1e30.\n",
    "    \"\"\"\n",
    "    SigmaSurf = SigmaSurf*(1e-3)/(1e-2)**2\n",
    "    num = 3*pi*alpha*(soundSpeed(Temp)*c)**2*SigmaSurf\n",
    "    Omega = (bin_Mass*s_mass/(parsec2sec(a_bin)**3))**0.5 ## parsec to seconds, make sure all in seconds\n",
    "    deno = Omega\n",
    "    ans = num/deno #kg/s\n",
    "    return ans\n",
    "\n",
    "def a_bin(a_bhs,qmass):\n",
    "    \"\"\"\n",
    "    Set a_bin to be the Hill radius, R_H ~ a(q/3)**1/3 for circular systems\n",
    "    a_bhs is the semimajor axis of the stellar mass BHs, in pc\n",
    "    answer in seconds\n",
    "    \"\"\"\n",
    "    return parsec2sec(a_bhs)*(qmass/3)**(1/3)\n",
    "\n",
    "def t_ACC(a_bhs,M1,M2,SigmaSurf,Temp, alpha):\n",
    "    \"\"\"\n",
    "    temperature in Kelvin\n",
    "    SigmaSurf input in g/cm^2\n",
    "    BH masses in solar masses\n",
    "    a_bhs in pc; start with 1e-3pc\n",
    "    Answer in YEARS\n",
    "    \"\"\"\n",
    "    SigmaSurf = SigmaSurf*(1/solar_mass_gr*s_mass)/(1e-2/c)**2\n",
    "    a0 = sqrt(M(M1,M2)*s_mass/SigmaSurf)\n",
    "    num = mu(M1,M2)*M(M1,M2)**0.25\n",
    "    q=M2/M1\n",
    "    deno = a_bin(a_bhs,q)*3*pi*alpha*soundSpeed(Temp)**2*SigmaSurf**0.75\n",
    "    ans = num/deno\n",
    "    return ans/31556926 #yrs\n",
    "    \n",
    "def t_baruteau(Temp, SigmaSurf, bin_Mass, SMBH_mass, a_SMBH, a_bin):\n",
    "    \"\"\"\n",
    "    temperature in Kelvin\n",
    "    SigmaSurf input in g/cm^2\n",
    "    SMBH_mass in solar masses\n",
    "    bin_mass in solar masses\n",
    "    a_SMBH in pc\n",
    "    a_bin in AU\n",
    "    Answer in YEARS\n",
    "    \"\"\"\n",
    "    const = 1/5.443310539518173e-10\n",
    "    ans = const*(Temp/2000)**3*(SigmaSurf/100)**(-1)*(SMBH_mass/3e6)**(-0.5)*(bin_Mass/2)**(-2)*(a_SMBH/0.1)**(3/2)*(a_bin/50)\n",
    "    return 900*ans\n",
    "  \n",
    "def t_sh(Mstar,q,gamma, Mtot, a_bin):\n",
    "    # answer in yr\n",
    "    sig = sigmaVel(Mstar) # M-sigma\n",
    "    H = 15\n",
    "    inf_rad = r_inf(Mstar,gamma,Mtot) # Influence radius\n",
    "    rho_influence = rho_r(Mstar, gamma, inf_rad) #density profile at influence radius\n",
    "    num = sig*1000/c\n",
    "    deno = H*parsec2sec(a_bin)*rho_influence\n",
    "    ans = num/deno\n",
    "    return ans/31556926\n",
    "\n",
    "def dy_fric_a(Mstar,M2, a):\n",
    "    \"\"\"\n",
    "    Final eq from https://webhome.weizmann.ac.il/home/iair/astrocourse/tutorial8.pdf\n",
    "    returns timescale in yr\n",
    "    Mbh should be mass of secondary\n",
    "    a in kpc\n",
    "    \"\"\"\n",
    "    # assume log(Lambda) = 10\n",
    "    vc = sqrt(2)*sigmaVel(Mstar)\n",
    "    ans = 2.64e10*(a/2)**2*(vc/250)*(1e6/M2)\n",
    "    return ans\n",
    "\n",
    "def fmax(Mtot):\n",
    "    const = 1/(np.pi*6**(3/2))\n",
    "    ans = const/(Mtot*s_mass)\n",
    "    return ans\n",
    "\n",
    "def find_nearest(array,value):\n",
    "    #returns index of matching value in array\n",
    "    idx = (np.abs(array-value)).argmin()\n",
    "    return idx \n",
    "\n",
    "def pc_to_AU(parParam):\n",
    "    \"\"\"\n",
    "    change parsecs to AU\n",
    "    input parsecs\n",
    "    output in AU\n",
    "    \"\"\"\n",
    "    return parParam*206265\n",
    "\n",
    "def AU_to_pc(auParam): \n",
    "    \"\"\"\n",
    "    change AU measurement to parsecs\n",
    "    \"\"\"\n",
    "    return auParam*4.8481e-6\n",
    "\n",
    "def a_to_Om(Mtot, semi_a):\n",
    "    # Kepler's 3rd law\n",
    "    # answer in seconds\n",
    "    semi_a = parsec2sec(semi_a) #parsecs to seconds\n",
    "    frac = Mtot*s_mass/(semi_a)**3\n",
    "    ans = frac**(1/2)\n",
    "    return ans\n",
    "\n",
    "def tempCheckwUnits(temp):\n",
    "    mp = 938.23e6/c**2 #Mev/c^2\n",
    "    kB = 8.617e-5 #eV/K\n",
    "    ans = sqrt(kB*temp/mp)\n",
    "    return ans\n",
    "\n",
    "def fdot_gw(Mchirp,fgw):\n",
    "    const = 96./5*pi**(8./3)\n",
    "    num = (Mchirp*s_mass)**(5./3)*fgw**(11./3)\n",
    "    ans = num*const\n",
    "    return ans\n",
    "\n",
    "def fdot_gw_mod(m1,m2,fgw):\n",
    "    const = 96./5*pi**(8./3)\n",
    "    num = (mchirp(m1,m2))**(5./3)*fgw**(11./3)\n",
    "    ans = num*const\n",
    "    return ans\n",
    "\n",
    "def fdot_drag(m1,m2,temperature, Const, fgw):\n",
    "    rho_0=1e-6*(1e-3)/(0.01)**3 # cm -> m\n",
    "    num = 2*rho_0*Const*3*(6.67428*(10**(-11)))**(5/3.)*((m1+m2)*2e30)**(2/3.)*fgw**(2./3)\n",
    "    deno = (soundSpeed(temperature)*c)**2*2*pi**(1/3.)\n",
    "    ans = num/deno\n",
    "    return ans\n",
    "    "
   ]
  },
  {
   "cell_type": "code",
   "execution_count": 40,
   "metadata": {},
   "outputs": [],
   "source": [
    "gw_vec = []\n",
    "drag_vec = []\n",
    "xax = []\n",
    "m1=1\n",
    "m2=1\n",
    "temperature = 1e5\n",
    "Const=1\n",
    "\n",
    "for qq in range (1,1000):\n",
    "    qq=qq/1000\n",
    "    xax.append(qq)\n",
    "    gw_vec.append(fdot_gw_mod(m1,m2,qq))\n",
    "    drag_vec.append(fdot_drag(m1,m2,temperature, Const, qq))\n",
    "    "
   ]
  },
  {
   "cell_type": "code",
   "execution_count": null,
   "metadata": {},
   "outputs": [],
   "source": []
  },
  {
   "cell_type": "code",
   "execution_count": 49,
   "metadata": {},
   "outputs": [
    {
     "name": "stderr",
     "output_type": "stream",
     "text": [
      "/anaconda2/envs/py3/lib/python3.6/site-packages/matplotlib/font_manager.py:1328: UserWarning: findfont: Font family ['serif'] not found. Falling back to DejaVu Sans\n",
      "  (prop.get_family(), self.defaultFamily[fontext]))\n",
      "/anaconda2/envs/py3/lib/python3.6/site-packages/matplotlib/font_manager.py:1328: UserWarning: findfont: Font family ['serif'] not found. Falling back to DejaVu Sans\n",
      "  (prop.get_family(), self.defaultFamily[fontext]))\n"
     ]
    },
    {
     "data": {
      "image/png": "[encoded data removed]",
      "text/plain": [
       "<Figure size 244.354x151.019 with 1 Axes>"
      ]
     },
     "metadata": {
      "image/png": {
       "height": 149,
       "width": 240
      }
     },
     "output_type": "display_data"
    }
   ],
   "source": [
    "plt.loglog(xax, gw_vec, label = \"GW Emission\")\n",
    "plt.loglog(xax, drag_vec, label=\"Gas Drag\")\n",
    "plt.xlabel(\"Frequency\")\n",
    "plt.ylabel(r\"$df/dt$\")\n",
    "plt.legend(loc=4)\n",
    "plt.tight_layout()\n",
    "plt.savefig(\"test_run_m1isOne.pdf\")"
   ]
  },
  {
   "cell_type": "code",
   "execution_count": null,
   "metadata": {},
   "outputs": [],
   "source": [
    "\n"
   ]
  },
  {
   "cell_type": "code",
   "execution_count": null,
   "metadata": {},
   "outputs": [],
   "source": []
  },
  {
   "cell_type": "raw",
   "metadata": {},
   "source": [
    "# don't run this now\n",
    "def t_baruteau(Temp, SigmaSurf, bin_Mass, SMBH_mass, a_SMBH, a_bin):\n",
    "    \"\"\"\n",
    "    temperature in Kelvin\n",
    "    SigmaSurf input in g/cm^2\n",
    "    SMBH_mass in solar masses\n",
    "    bin_mass in solar masses\n",
    "    a_SMBH in pc\n",
    "    a_bin in AU\n",
    "    Answer in YEARS\n",
    "    \"\"\"\n",
    "    const = 1/5.443310539518173e-10\n",
    "    ans = const*(Temp/2000)**3*(SigmaSurf/100)**(-1)*(SMBH_mass/3e6)**(-0.5)*(bin_Mass/2)**(-2)*(a_SMBH/0.1)**(3/2)*(a_bin/50)\n",
    "    return 900*ans"
   ]
  },
  {
   "cell_type": "code",
   "execution_count": null,
   "metadata": {},
   "outputs": [],
   "source": []
  },
  {
   "cell_type": "code",
   "execution_count": 8,
   "metadata": {},
   "outputs": [],
   "source": [
    "M1 = 99     # solar masses  \n",
    "M2 = 1     # solar masses\n",
    "Mtot = M1+M2\n",
    "qratio = M2/M1\n",
    "Temp = 10**5  # K this was 1e5.5... \n",
    "SigmaSurf = 10**(5.5) #g/cm^2, Figure 2 of Sirko & Goodman 2003\n",
    "a_bhs = 1e-2 #pcs\n",
    "alpha = 0.03\n",
    "SMBH_mass = 1e7\n",
    "a_SMBH = 0.1"
   ]
  },
  {
   "cell_type": "code",
   "execution_count": 112,
   "metadata": {},
   "outputs": [],
   "source": [
    "# All in AU\n",
    "t_bteau100 = [] # distance in AU, surface density /1000\n",
    "t_bteau60 = []\n",
    "t_gws100 = [] # distance in pc\n",
    "t_gws60 = []\n",
    "t_acc60 = [] \n",
    "t_acc100 = [] \n",
    "xaxis_t = []\n",
    "t_all100 = []\n",
    "t_all200 = []\n",
    "# t_baruteau(Temp, SigmaSurf, bin_Mass, SMBH_mass, a_SMBH, a_bin) # functional form\n",
    "\n",
    "for ii in range(1000*1000):\n",
    "    ii = (ii+1)/1e5\n",
    "    xaxis_t.append(ii)\n",
    "    \n",
    "    # Equal Mass 60 Msun binary\n",
    "    t_bteau60.append(t_baruteau(Temp,SigmaSurf,60, SMBH_mass,1e-3, ii))\n",
    "    t_gws60.append(t_gw(AU_to_pc(ii), 1, 60))   \n",
    "    t_acc60.append(t_ACC(AU_to_pc(ii),30,30,SigmaSurf,Temp, alpha)) \n",
    "    \n",
    "    # Unequal Mass 100:1 Msun binary\n",
    "    t_bteau100.append(t_baruteau(Temp,SigmaSurf,100, SMBH_mass,1e-3, ii))\n",
    "    t_gws100.append(t_gw(AU_to_pc(ii), 1/99, 100))   \n",
    "    t_acc100.append(t_ACC(AU_to_pc(ii),99,1,SigmaSurf,Temp, alpha))  \n",
    "\n",
    "\n",
    "    t_all200.append(min(t_baruteau(1e5,10**5.5,200,1e7,1e-3,ii), t_gw(AU_to_pc(ii), (1), 200), t_ACC(AU_to_pc(ii),100,100,SigmaSurf,Temp, alpha) ))\n",
    "    t_all100.append(min(t_baruteau(1e5,10**5.5,100,1e7,1e-3,ii), t_gw(AU_to_pc(ii), (1/99), 100), t_ACC(AU_to_pc(ii),99,1,SigmaSurf,Temp, alpha) ))"
   ]
  },
  {
   "cell_type": "code",
   "execution_count": 105,
   "metadata": {},
   "outputs": [],
   "source": [
    "# What are LISA Band Limits? 1e-4 to 1e-2 Hz\n",
    "lisa_min = a_to_f(Mtot, 1e-4)/499.00478 #seconds converted to AU\n",
    "lisa_max = a_to_f(Mtot, 1e-2)/499.00478 #seconds\n",
    "\n",
    "ligo_min = a_to_f(Mtot, 10)/499.00478 #seconds converted to AU\n",
    "ligo_max = a_to_f(Mtot, 80)/499.00478 #seconds to AU, and also up to isco freq = 76 Hz\n",
    "\n",
    "et_min = a_to_f(Mtot, 1)/499.00478 #seconds converted to AU\n",
    "et_max = a_to_f(Mtot, 1e3)/499.00478 #seconds to AU, and also up to isco freq = 76 Hz"
   ]
  },
  {
   "cell_type": "code",
   "execution_count": 106,
   "metadata": {},
   "outputs": [],
   "source": [
    "import matplotlib.ticker as tck\n"
   ]
  },
  {
   "cell_type": "code",
   "execution_count": 119,
   "metadata": {},
   "outputs": [
    {
     "name": "stderr",
     "output_type": "stream",
     "text": [
      "/anaconda2/envs/py3/lib/python3.6/site-packages/matplotlib/font_manager.py:1328: UserWarning: findfont: Font family ['serif'] not found. Falling back to DejaVu Sans\n",
      "  (prop.get_family(), self.defaultFamily[fontext]))\n",
      "/anaconda2/envs/py3/lib/python3.6/site-packages/matplotlib/ticker.py:2516: UserWarning: AutoMinorLocator does not work with logarithmic scale\n",
      "  warnings.warn('AutoMinorLocator does not work with logarithmic '\n",
      "/anaconda2/envs/py3/lib/python3.6/site-packages/matplotlib/ticker.py:2516: UserWarning: AutoMinorLocator does not work with logarithmic scale\n",
      "  warnings.warn('AutoMinorLocator does not work with logarithmic '\n",
      "/anaconda2/envs/py3/lib/python3.6/site-packages/matplotlib/font_manager.py:1328: UserWarning: findfont: Font family ['serif'] not found. Falling back to DejaVu Sans\n",
      "  (prop.get_family(), self.defaultFamily[fontext]))\n",
      "/anaconda2/envs/py3/lib/python3.6/site-packages/matplotlib/ticker.py:2516: UserWarning: AutoMinorLocator does not work with logarithmic scale\n",
      "  warnings.warn('AutoMinorLocator does not work with logarithmic '\n"
     ]
    },
    {
     "data": {
      "image/png": "[encoded data removed]",
      "text/plain": [
       "<Figure size 244.354x151.019 with 1 Axes>"
      ]
     },
     "metadata": {
      "image/png": {
       "height": 152,
       "width": 241
      }
     },
     "output_type": "display_data"
    }
   ],
   "source": [
    "fig, ax1 = plt.subplots()\n",
    "plt.title(\"BHB merger timescales\")\n",
    "#ax1 = fig.add_subplot(111)\n",
    "#ax2 = ax1.twiny()\n",
    "\n",
    "# Data\n",
    "ax1.loglog(xaxis_t, t_gws60, label = \"GWs $q=1, M=60~M_\\odot$\", linestyle = \":\")\n",
    "ax1.loglog(xaxis_t, t_bteau60, label = \"Baruteau, $M=60~M_\\odot$\")\n",
    "ax1.loglog(xaxis_t, t_acc60, label = \"Accretion, $M=60~M_\\odot$\", linestyle=\"-.\")\n",
    "\n",
    "# Data\n",
    "#ax1.loglog(xaxis_t, t_gws100, label = \"GWs $q=1, M=60~M_\\odot$\", linestyle = \":\")\n",
    "#ax1.loglog(xaxis_t, t_bteau100, label = \"Baruteau, $M=60~M_\\odot$\")\n",
    "#ax1.loglog(xaxis_t, t_acc100, label = \"Accretion, $M=60~M_\\odot$\", linestyle=\"-.\")\n",
    "ax1.loglog(xaxis_t, t_all100, label = \"$q=0.01, M=100M_\\odot$\", linestyle=\"-.\")\n",
    "ax1.loglog(xaxis_t, t_all200, label = \"$q=1, M=200M_\\odot$\", linestyle=\"-.\")\n",
    "\n",
    "\n",
    "\n",
    "\n",
    "\n",
    "# GW Detectors\n",
    "ax1.axvspan(lisa_min, lisa_max, alpha=0.2,  color = 'C4' ) #LISA band\n",
    "ax1.axvspan(et_min, et_max, alpha=0.2,  color = 'C7') #ET band\n",
    "ax1.axvspan(ligo_min, ligo_max, alpha=0.3,  color = 'C6') #LIGO band\n",
    "\n",
    "# Fine tuning\n",
    "ax1.set_axisbelow(True)\n",
    "\n",
    "# Turn on the minor TICKS, which are required for the minor GRID\n",
    "ax1.minorticks_on()\n",
    "# Customize the major grid\n",
    "#ax1.grid(which='major', linestyle='-', linewidth='0.5', color='red')\n",
    "# Customize the minor grid\n",
    "#ax1.grid(which='minor', linestyle=':', linewidth='0.5', color='black')\n",
    "\n",
    "ax1.yaxis.set_minor_locator(matplotlib.ticker.AutoMinorLocator(10))\n",
    "#ax1.set_yscale('log')\n",
    "ax1.grid(True, alpha=0.1, linewidth=0.5)\n",
    "ax1.axhline(y=.5, alpha=0.2, linestyle = \":\", color = 'grey')\n",
    "ax1.axhline(y=10, alpha=0.2, linestyle = \"-.\", color = 'grey')\n",
    "ax1.axhline(y=1e4, alpha=0.2, linestyle = \":\", color = 'grey')\n",
    "\n",
    "\n",
    "ax1.set_ylim((0.013157894736842105 / 31556926),1e9) # ymin is 1/f_isco\n",
    "ax1.set_ylabel(\"Time (yrs)\")\n",
    "ax1.set_xlabel(\"Binary separation, a (AU)\")\n",
    "plt.legend(loc=4)\n",
    "plt.tight_layout()\n",
    "#plt.savefig(\"BHB_in_AGN_disk-25oct19-vary_qx2.pdf\")"
   ]
  },
  {
   "cell_type": "markdown",
   "metadata": {},
   "source": [
    "# Add LIGO and LISA Frequency bands!"
   ]
  },
  {
   "cell_type": "markdown",
   "metadata": {},
   "source": [
    "## What are the limitations of this scaling law? When $c_S = da/dt$ from Baruteau et al. 2011"
   ]
  },
  {
   "cell_type": "code",
   "execution_count": 266,
   "metadata": {},
   "outputs": [],
   "source": [
    "# What is da/dt from Baruteau? Divide a list define by Baruteau by time list..\n",
    "\n",
    "tmpLst = []\n",
    "for ii in range(1,100):\n",
    "    tmpLst.append(31556926*t_acc[ii]/(xaxis_t[ii]*499))"
   ]
  },
  {
   "cell_type": "code",
   "execution_count": 267,
   "metadata": {},
   "outputs": [
    {
     "data": {
      "text/plain": [
       "264.5445816065816"
      ]
     },
     "execution_count": 267,
     "metadata": {},
     "output_type": "execute_result"
    }
   ],
   "source": [
    "(c*50*499/900/pi/1e7)"
   ]
  },
  {
   "cell_type": "code",
   "execution_count": 278,
   "metadata": {},
   "outputs": [],
   "source": [
    "riseA = (t_acc[-1] - t_acc[0])*31556926\n",
    "riseB = (t_bteau[-1] - t_bteau[0])*31556926"
   ]
  },
  {
   "cell_type": "code",
   "execution_count": 279,
   "metadata": {},
   "outputs": [],
   "source": [
    "run = (xaxis_t[-1]-xaxis_t[0])*499"
   ]
  },
  {
   "cell_type": "code",
   "execution_count": 280,
   "metadata": {},
   "outputs": [],
   "source": [
    "slopeA = run/riseA\n",
    "slopeB = run/riseB"
   ]
  },
  {
   "cell_type": "code",
   "execution_count": 281,
   "metadata": {},
   "outputs": [
    {
     "data": {
      "text/plain": [
       "'3.689428e+09'"
      ]
     },
     "execution_count": 281,
     "metadata": {},
     "output_type": "execute_result"
    }
   ],
   "source": [
    "\"%2e\"%(riseB)"
   ]
  },
  {
   "cell_type": "code",
   "execution_count": 282,
   "metadata": {},
   "outputs": [
    {
     "data": {
      "text/plain": [
       "'4.990000e+04'"
      ]
     },
     "execution_count": 282,
     "metadata": {},
     "output_type": "execute_result"
    }
   ],
   "source": [
    "\"%2e\"%run"
   ]
  },
  {
   "cell_type": "code",
   "execution_count": 283,
   "metadata": {},
   "outputs": [
    {
     "data": {
      "text/plain": [
       "4054.732022416672"
      ]
     },
     "execution_count": 283,
     "metadata": {},
     "output_type": "execute_result"
    }
   ],
   "source": [
    "slopeB*c ### GOOD!! 4km/s, less than disk sound speed."
   ]
  },
  {
   "cell_type": "markdown",
   "metadata": {},
   "source": [
    "# Plotting preamble"
   ]
  },
  {
   "cell_type": "code",
   "execution_count": 45,
   "metadata": {},
   "outputs": [],
   "source": [
    "fig_width_pt = 245.27 #513.17           # Get this from LaTeX using \\showthe\\columnwidth\n",
    "inches_per_pt = 1.0/72.27               # Convert pt to inches\n",
    "golden_mean = (np.sqrt(5)-1.0)/2.0      # Aesthetic ratio\n",
    "fig_width = fig_width_pt*inches_per_pt  # width in inches\n",
    "fig_height =fig_width*golden_mean       # height in inches\n",
    "fig_size = [fig_width,fig_height]\n",
    "\n",
    "params = {'backend': 'pdf',\n",
    "        'axes.labelsize': 7,\n",
    "        'lines.markersize': 4,\n",
    "        'font.size': 7,\n",
    "        'xtick.major.size':6,\n",
    "        'xtick.minor.size':3,  \n",
    "        'ytick.major.size':6,\n",
    "        'ytick.minor.size':3, \n",
    "        'xtick.major.width':0.5,\n",
    "        'ytick.major.width':0.5,\n",
    "        'xtick.minor.width':0.5,\n",
    "        'ytick.minor.width':0.5,\n",
    "        'lines.markeredgewidth':1,\n",
    "        'axes.linewidth':1.2,\n",
    "        'legend.fontsize': 7,\n",
    "        'xtick.labelsize': 7,\n",
    "        'ytick.labelsize': 7,\n",
    "        'savefig.dpi':200,\n",
    "        'path.simplify':True,\n",
    "        'font.family': 'serif',\n",
    "        'font.serif':'Times',\n",
    "        'text.latex.preamble': [r'\\usepackage{amsmath}'],\n",
    "        'text.usetex':True,\n",
    "        #'axes.color_cycle': ['b', 'lime', 'r', 'purple', 'g', 'c', 'm', 'orange', 'darkblue', \\\n",
    "        #                        'darkcyan', 'y','orangered','chartreuse','brown','deeppink','lightgreen', 'k'],\n",
    "        #'font.serif':cm,\n",
    "        'figure.figsize': fig_size}\n",
    "plt.rcParams.update(params)"
   ]
  },
  {
   "cell_type": "code",
   "execution_count": null,
   "metadata": {},
   "outputs": [],
   "source": []
  }
 ],
 "metadata": {
  "kernelspec": {
   "display_name": "Python 3",
   "language": "python",
   "name": "python3"
  },
  "language_info": {
   "codemirror_mode": {
    "name": "ipython",
    "version": 3
   },
   "file_extension": ".py",
   "mimetype": "text/x-python",
   "name": "python",
   "nbconvert_exporter": "python",
   "pygments_lexer": "ipython3",
   "version": "3.6.5"
  }
 },
 "nbformat": 4,
 "nbformat_minor": 1
}
